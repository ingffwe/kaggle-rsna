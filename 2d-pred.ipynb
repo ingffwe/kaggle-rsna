{
 "cells": [
  {
   "cell_type": "code",
   "execution_count": 59,
   "metadata": {
    "collapsed": true
   },
   "outputs": [],
   "source": [
    "import os\n",
    "import re\n",
    "import albumentations as A\n",
    "from albumentations.pytorch import ToTensorV2\n",
    "import cv2\n",
    "import matplotlib.pyplot as plt\n",
    "import numpy as np\n",
    "import pandas as pd\n",
    "import pydicom as dicom\n",
    "from sklearn.model_selection import train_test_split\n",
    "import torch\n",
    "import torchvision as tv\n",
    "from sklearn.model_selection import GroupKFold\n",
    "from torch.cuda.amp import GradScaler, autocast\n",
    "from torchvision.models.feature_extraction import create_feature_extractor\n",
    "from tqdm.notebook import tqdm\n",
    "import timm"
   ]
  },
  {
   "cell_type": "code",
   "execution_count": 60,
   "outputs": [],
   "source": [
    "def load_dicom(path):\n",
    "    \"\"\"\n",
    "    This supports loading both regular and compressed JPEG images.\n",
    "    See the first sell with `pip install` commands for the necessary dependencies\n",
    "    \"\"\"\n",
    "    img=dicom.dcmread(path)\n",
    "    img.PhotometricInterpretation = 'YBR_FULL'\n",
    "    data = img.pixel_array\n",
    "    data = data - np.min(data)\n",
    "    if np.max(data) != 0:\n",
    "        data = data / np.max(data)\n",
    "    data=(data * 255).astype(np.uint8)\n",
    "    return cv2.cvtColor(data, cv2.COLOR_GRAY2RGB), img\n"
   ],
   "metadata": {
    "collapsed": false,
    "pycharm": {
     "name": "#%%\n"
    }
   }
  },
  {
   "cell_type": "code",
   "execution_count": 61,
   "outputs": [
    {
     "data": {
      "text/plain": "'cuda'"
     },
     "execution_count": 61,
     "metadata": {},
     "output_type": "execute_result"
    }
   ],
   "source": [
    "RSNA_2022_PATH = '../input/rsna-2022-cervical-spine-fracture-detection'\n",
    "TRAIN_IMAGES_PATH = f'{RSNA_2022_PATH}/train_images'\n",
    "TEST_IMAGES_PATH = f'{RSNA_2022_PATH}/test_images'\n",
    "EFFNET_MAX_TRAIN_BATCHES = 40000\n",
    "EFFNET_MAX_EVAL_BATCHES = 200\n",
    "ONE_CYCLE_MAX_LR = 0.0001\n",
    "ONE_CYCLE_PCT_START = 0.3\n",
    "SAVE_CHECKPOINT_EVERY_STEP = 1000\n",
    "EFFNET_CHECKPOINTS_PATH = '../input/rsna-2022-base-effnetv2'\n",
    "FRAC_LOSS_WEIGHT = 2.\n",
    "N_FOLDS = 5\n",
    "METADATA_PATH = '../input/vertebrae-detection-checkpoints'\n",
    "\n",
    "PREDICT_MAX_BATCHES = 5000\n",
    "\n",
    "DEVICE='cuda' if torch.cuda.is_available() else 'cpu'\n",
    "if DEVICE == 'cuda':\n",
    "    BATCH_SIZE = 32\n",
    "else:\n",
    "    BATCH_SIZE = 2\n",
    "\n",
    "DEVICE"
   ],
   "metadata": {
    "collapsed": false,
    "pycharm": {
     "name": "#%%\n"
    }
   }
  },
  {
   "cell_type": "code",
   "execution_count": 62,
   "outputs": [],
   "source": [
    "\n",
    "class EffnetDataSet(torch.utils.data.Dataset):\n",
    "    def __init__(self, df, path, transforms=None):\n",
    "        super().__init__()\n",
    "        self.df = df\n",
    "        self.path = path\n",
    "        self.transforms = transforms\n",
    "\n",
    "    def __getitem__(self, i):\n",
    "        path = os.path.join(self.path, self.df.iloc[i].StudyInstanceUID, f'{self.df.iloc[i].Slice}.dcm')\n",
    "\n",
    "        try:\n",
    "            img = load_dicom(path)[0]\n",
    "            # Pytorch uses (batch, channel, height, width) order. Converting (height, width, channel) -> (channel, height, width)\n",
    "            # img = np.transpose(img, (2, 0, 1))\n",
    "            if self.transforms is not None:\n",
    "                img = self.transforms(image=img)['image']\n",
    "            img = img.to(dtype=torch.float16)\n",
    "        except Exception as ex:\n",
    "            print(ex)\n",
    "            return None\n",
    "\n",
    "        if 'C1_fracture' in self.df:\n",
    "            frac_targets = torch.as_tensor(self.df.iloc[i][['C1_fracture', 'C2_fracture', 'C3_fracture', 'C4_fracture',\n",
    "                                                            'C5_fracture', 'C6_fracture', 'C7_fracture']].astype(\n",
    "                'float32').values)\n",
    "            vert_targets = torch.as_tensor(\n",
    "                self.df.iloc[i][['C1', 'C2', 'C3', 'C4', 'C5', 'C6', 'C7']].astype('float32').values)\n",
    "            frac_targets = frac_targets * vert_targets  # we only enable targets that are visible on the current slice\n",
    "            return img, frac_targets, vert_targets\n",
    "        return img\n",
    "\n",
    "    def __len__(self):\n",
    "        return len(self.df)"
   ],
   "metadata": {
    "collapsed": false,
    "pycharm": {
     "name": "#%%\n"
    }
   }
  },
  {
   "cell_type": "code",
   "execution_count": 63,
   "outputs": [
    {
     "data": {
      "text/plain": "                 StudyInstanceUID  Slice  ImageHeight  ImageWidth  \\\n0       1.2.826.0.1.3680043.10001      1          512         512   \n1       1.2.826.0.1.3680043.10001      2          512         512   \n2       1.2.826.0.1.3680043.10001      3          512         512   \n3       1.2.826.0.1.3680043.10001      4          512         512   \n4       1.2.826.0.1.3680043.10001      5          512         512   \n...                           ...    ...          ...         ...   \n711498   1.2.826.0.1.3680043.9997    251          512         512   \n711499   1.2.826.0.1.3680043.9997    252          512         512   \n711500   1.2.826.0.1.3680043.9997    253          512         512   \n711501   1.2.826.0.1.3680043.9997    254          512         512   \n711502   1.2.826.0.1.3680043.9997    255          512         512   \n\n        SliceThickness  ImagePositionPatient_x  ImagePositionPatient_y  \\\n0                0.625                 -52.308                 -27.712   \n1                0.625                 -52.308                 -27.712   \n2                0.625                 -52.308                 -27.712   \n3                0.625                 -52.308                 -27.712   \n4                0.625                 -52.308                 -27.712   \n...                ...                     ...                     ...   \n711498           0.625                 -55.200                 -24.600   \n711499           0.625                 -55.200                 -24.600   \n711500           0.625                 -55.200                 -24.600   \n711501           0.625                 -55.200                 -24.600   \n711502           0.625                 -55.200                 -24.600   \n\n        ImagePositionPatient_z  C1  C2  ...  C7  patient_overall  C1_fracture  \\\n0                        7.282   0   0  ...   0                0            0   \n1                        6.657   0   0  ...   0                0            0   \n2                        6.032   0   0  ...   0                0            0   \n3                        5.407   0   0  ...   0                0            0   \n4                        4.782   0   0  ...   0                0            0   \n...                        ...  ..  ..  ...  ..              ...          ...   \n711498                -187.750   0   0  ...   0                0            0   \n711499                -188.375   0   0  ...   0                0            0   \n711500                -189.000   0   0  ...   0                0            0   \n711501                -189.625   0   0  ...   0                0            0   \n711502                -190.250   0   0  ...   0                0            0   \n\n        C2_fracture  C3_fracture  C4_fracture  C5_fracture  C6_fracture  \\\n0                 0            0            0            0            0   \n1                 0            0            0            0            0   \n2                 0            0            0            0            0   \n3                 0            0            0            0            0   \n4                 0            0            0            0            0   \n...             ...          ...          ...          ...          ...   \n711498            0            0            0            0            0   \n711499            0            0            0            0            0   \n711500            0            0            0            0            0   \n711501            0            0            0            0            0   \n711502            0            0            0            0            0   \n\n        C7_fracture  split  \n0                 0    3.0  \n1                 0    3.0  \n2                 0    3.0  \n3                 0    3.0  \n4                 0    3.0  \n...             ...    ...  \n711498            0    1.0  \n711499            0    1.0  \n711500            0    1.0  \n711501            0    1.0  \n711502            0    1.0  \n\n[711503 rows x 24 columns]",
      "text/html": "<div>\n<style scoped>\n    .dataframe tbody tr th:only-of-type {\n        vertical-align: middle;\n    }\n\n    .dataframe tbody tr th {\n        vertical-align: top;\n    }\n\n    .dataframe thead th {\n        text-align: right;\n    }\n</style>\n<table border=\"1\" class=\"dataframe\">\n  <thead>\n    <tr style=\"text-align: right;\">\n      <th></th>\n      <th>StudyInstanceUID</th>\n      <th>Slice</th>\n      <th>ImageHeight</th>\n      <th>ImageWidth</th>\n      <th>SliceThickness</th>\n      <th>ImagePositionPatient_x</th>\n      <th>ImagePositionPatient_y</th>\n      <th>ImagePositionPatient_z</th>\n      <th>C1</th>\n      <th>C2</th>\n      <th>...</th>\n      <th>C7</th>\n      <th>patient_overall</th>\n      <th>C1_fracture</th>\n      <th>C2_fracture</th>\n      <th>C3_fracture</th>\n      <th>C4_fracture</th>\n      <th>C5_fracture</th>\n      <th>C6_fracture</th>\n      <th>C7_fracture</th>\n      <th>split</th>\n    </tr>\n  </thead>\n  <tbody>\n    <tr>\n      <th>0</th>\n      <td>1.2.826.0.1.3680043.10001</td>\n      <td>1</td>\n      <td>512</td>\n      <td>512</td>\n      <td>0.625</td>\n      <td>-52.308</td>\n      <td>-27.712</td>\n      <td>7.282</td>\n      <td>0</td>\n      <td>0</td>\n      <td>...</td>\n      <td>0</td>\n      <td>0</td>\n      <td>0</td>\n      <td>0</td>\n      <td>0</td>\n      <td>0</td>\n      <td>0</td>\n      <td>0</td>\n      <td>0</td>\n      <td>3.0</td>\n    </tr>\n    <tr>\n      <th>1</th>\n      <td>1.2.826.0.1.3680043.10001</td>\n      <td>2</td>\n      <td>512</td>\n      <td>512</td>\n      <td>0.625</td>\n      <td>-52.308</td>\n      <td>-27.712</td>\n      <td>6.657</td>\n      <td>0</td>\n      <td>0</td>\n      <td>...</td>\n      <td>0</td>\n      <td>0</td>\n      <td>0</td>\n      <td>0</td>\n      <td>0</td>\n      <td>0</td>\n      <td>0</td>\n      <td>0</td>\n      <td>0</td>\n      <td>3.0</td>\n    </tr>\n    <tr>\n      <th>2</th>\n      <td>1.2.826.0.1.3680043.10001</td>\n      <td>3</td>\n      <td>512</td>\n      <td>512</td>\n      <td>0.625</td>\n      <td>-52.308</td>\n      <td>-27.712</td>\n      <td>6.032</td>\n      <td>0</td>\n      <td>0</td>\n      <td>...</td>\n      <td>0</td>\n      <td>0</td>\n      <td>0</td>\n      <td>0</td>\n      <td>0</td>\n      <td>0</td>\n      <td>0</td>\n      <td>0</td>\n      <td>0</td>\n      <td>3.0</td>\n    </tr>\n    <tr>\n      <th>3</th>\n      <td>1.2.826.0.1.3680043.10001</td>\n      <td>4</td>\n      <td>512</td>\n      <td>512</td>\n      <td>0.625</td>\n      <td>-52.308</td>\n      <td>-27.712</td>\n      <td>5.407</td>\n      <td>0</td>\n      <td>0</td>\n      <td>...</td>\n      <td>0</td>\n      <td>0</td>\n      <td>0</td>\n      <td>0</td>\n      <td>0</td>\n      <td>0</td>\n      <td>0</td>\n      <td>0</td>\n      <td>0</td>\n      <td>3.0</td>\n    </tr>\n    <tr>\n      <th>4</th>\n      <td>1.2.826.0.1.3680043.10001</td>\n      <td>5</td>\n      <td>512</td>\n      <td>512</td>\n      <td>0.625</td>\n      <td>-52.308</td>\n      <td>-27.712</td>\n      <td>4.782</td>\n      <td>0</td>\n      <td>0</td>\n      <td>...</td>\n      <td>0</td>\n      <td>0</td>\n      <td>0</td>\n      <td>0</td>\n      <td>0</td>\n      <td>0</td>\n      <td>0</td>\n      <td>0</td>\n      <td>0</td>\n      <td>3.0</td>\n    </tr>\n    <tr>\n      <th>...</th>\n      <td>...</td>\n      <td>...</td>\n      <td>...</td>\n      <td>...</td>\n      <td>...</td>\n      <td>...</td>\n      <td>...</td>\n      <td>...</td>\n      <td>...</td>\n      <td>...</td>\n      <td>...</td>\n      <td>...</td>\n      <td>...</td>\n      <td>...</td>\n      <td>...</td>\n      <td>...</td>\n      <td>...</td>\n      <td>...</td>\n      <td>...</td>\n      <td>...</td>\n      <td>...</td>\n    </tr>\n    <tr>\n      <th>711498</th>\n      <td>1.2.826.0.1.3680043.9997</td>\n      <td>251</td>\n      <td>512</td>\n      <td>512</td>\n      <td>0.625</td>\n      <td>-55.200</td>\n      <td>-24.600</td>\n      <td>-187.750</td>\n      <td>0</td>\n      <td>0</td>\n      <td>...</td>\n      <td>0</td>\n      <td>0</td>\n      <td>0</td>\n      <td>0</td>\n      <td>0</td>\n      <td>0</td>\n      <td>0</td>\n      <td>0</td>\n      <td>0</td>\n      <td>1.0</td>\n    </tr>\n    <tr>\n      <th>711499</th>\n      <td>1.2.826.0.1.3680043.9997</td>\n      <td>252</td>\n      <td>512</td>\n      <td>512</td>\n      <td>0.625</td>\n      <td>-55.200</td>\n      <td>-24.600</td>\n      <td>-188.375</td>\n      <td>0</td>\n      <td>0</td>\n      <td>...</td>\n      <td>0</td>\n      <td>0</td>\n      <td>0</td>\n      <td>0</td>\n      <td>0</td>\n      <td>0</td>\n      <td>0</td>\n      <td>0</td>\n      <td>0</td>\n      <td>1.0</td>\n    </tr>\n    <tr>\n      <th>711500</th>\n      <td>1.2.826.0.1.3680043.9997</td>\n      <td>253</td>\n      <td>512</td>\n      <td>512</td>\n      <td>0.625</td>\n      <td>-55.200</td>\n      <td>-24.600</td>\n      <td>-189.000</td>\n      <td>0</td>\n      <td>0</td>\n      <td>...</td>\n      <td>0</td>\n      <td>0</td>\n      <td>0</td>\n      <td>0</td>\n      <td>0</td>\n      <td>0</td>\n      <td>0</td>\n      <td>0</td>\n      <td>0</td>\n      <td>1.0</td>\n    </tr>\n    <tr>\n      <th>711501</th>\n      <td>1.2.826.0.1.3680043.9997</td>\n      <td>254</td>\n      <td>512</td>\n      <td>512</td>\n      <td>0.625</td>\n      <td>-55.200</td>\n      <td>-24.600</td>\n      <td>-189.625</td>\n      <td>0</td>\n      <td>0</td>\n      <td>...</td>\n      <td>0</td>\n      <td>0</td>\n      <td>0</td>\n      <td>0</td>\n      <td>0</td>\n      <td>0</td>\n      <td>0</td>\n      <td>0</td>\n      <td>0</td>\n      <td>1.0</td>\n    </tr>\n    <tr>\n      <th>711502</th>\n      <td>1.2.826.0.1.3680043.9997</td>\n      <td>255</td>\n      <td>512</td>\n      <td>512</td>\n      <td>0.625</td>\n      <td>-55.200</td>\n      <td>-24.600</td>\n      <td>-190.250</td>\n      <td>0</td>\n      <td>0</td>\n      <td>...</td>\n      <td>0</td>\n      <td>0</td>\n      <td>0</td>\n      <td>0</td>\n      <td>0</td>\n      <td>0</td>\n      <td>0</td>\n      <td>0</td>\n      <td>0</td>\n      <td>1.0</td>\n    </tr>\n  </tbody>\n</table>\n<p>711503 rows × 24 columns</p>\n</div>"
     },
     "execution_count": 63,
     "metadata": {},
     "output_type": "execute_result"
    }
   ],
   "source": [
    "df_train = pd.read_csv(f'{RSNA_2022_PATH}/train.csv')\n",
    "df_train_slices = pd.read_csv(r'W:\\PycharmProjects\\kaggle-RSNA\\input\\rsna-2022-spine-fracture-detection-metadata\\train_segmented.csv')\n",
    "c1c7 = [f'C{i}' for i in range(1, 8)]\n",
    "df_train_slices[c1c7] = (df_train_slices[c1c7] > 0.5).astype(int)\n",
    "df_train = df_train_slices.set_index('StudyInstanceUID').join(df_train.set_index('StudyInstanceUID'),\n",
    "                                                              rsuffix='_fracture').reset_index().copy()\n",
    "df_train = df_train.query('StudyInstanceUID != \"1.2.826.0.1.3680043.20574\"').reset_index(drop=True)\n",
    "\n",
    "split = GroupKFold(N_FOLDS)\n",
    "for k, (_, test_idx) in enumerate(split.split(df_train, groups=df_train.StudyInstanceUID)):\n",
    "    df_train.loc[test_idx, 'split'] = k\n",
    "df_train"
   ],
   "metadata": {
    "collapsed": false,
    "pycharm": {
     "name": "#%%\n"
    }
   }
  },
  {
   "cell_type": "code",
   "execution_count": 64,
   "outputs": [],
   "source": [
    "\n",
    "def weighted_loss(y_pred_logit, y, reduction='mean', verbose=False):\n",
    "    \"\"\"\n",
    "    Weighted loss\n",
    "    We reuse torch.nn.functional.binary_cross_entropy_with_logits here. pos_weight and weights combined give us necessary coefficients described in https://www.kaggle.com/competitions/rsna-2022-cervical-spine-fracture-detection/discussion/340392\n",
    "\n",
    "    See also this explanation: https://www.kaggle.com/code/samuelcortinhas/rsna-fracture-detection-in-depth-eda/notebook\n",
    "    \"\"\"\n",
    "\n",
    "    neg_weights = (torch.tensor([7., 1, 1, 1, 1, 1, 1, 1]) if y_pred_logit.shape[-1] == 8 else torch.ones(y_pred_logit.shape[-1])).to(DEVICE)\n",
    "    pos_weights = (torch.tensor([14., 2, 2, 2, 2, 2, 2, 2]) if y_pred_logit.shape[-1] == 8 else torch.ones(y_pred_logit.shape[-1]) * 2.).to(DEVICE)\n",
    "\n",
    "    loss = torch.nn.functional.binary_cross_entropy_with_logits(\n",
    "        y_pred_logit,\n",
    "        y,\n",
    "        reduction='none',\n",
    "    )\n",
    "\n",
    "    if verbose:\n",
    "        print('loss', loss)\n",
    "\n",
    "    pos_weights = y * pos_weights.unsqueeze(0)\n",
    "    neg_weights = (1 - y) * neg_weights.unsqueeze(0)\n",
    "    all_weights = pos_weights + neg_weights\n",
    "\n",
    "    if verbose:\n",
    "        print('all weights', all_weights)\n",
    "\n",
    "    loss *= all_weights\n",
    "    if verbose:\n",
    "        print('weighted loss', loss)\n",
    "\n",
    "    norm = torch.sum(all_weights, dim=1).unsqueeze(1)\n",
    "    if verbose:\n",
    "        print('normalization factors', norm)\n",
    "\n",
    "    loss /= norm\n",
    "    if verbose:\n",
    "        print('normalized loss', loss)\n",
    "\n",
    "    loss = torch.sum(loss, dim=1)\n",
    "    if verbose:\n",
    "        print('summed up over patient_overall-C1-C7 loss', loss)\n",
    "\n",
    "    if reduction == 'mean':\n",
    "        return torch.mean(loss)\n",
    "    return loss\n"
   ],
   "metadata": {
    "collapsed": false,
    "pycharm": {
     "name": "#%%\n"
    }
   }
  },
  {
   "cell_type": "code",
   "execution_count": 65,
   "outputs": [],
   "source": [
    "class EffnetModel(torch.nn.Module):\n",
    "    def __init__(self):\n",
    "        super().__init__()\n",
    "        effnet = tv.models.efficientnet_v2_s()\n",
    "        self.model = create_feature_extractor(effnet, ['flatten'])\n",
    "        self.nn_fracture = torch.nn.Sequential(\n",
    "            torch.nn.Linear(1280, 7),\n",
    "        )\n",
    "        self.nn_vertebrae = torch.nn.Sequential(\n",
    "            torch.nn.Linear(1280, 7),\n",
    "        )\n",
    "\n",
    "    def forward(self, x):\n",
    "        # returns logits\n",
    "        x = self.model(x)['flatten']\n",
    "        return self.nn_fracture(x), self.nn_vertebrae(x)\n",
    "\n",
    "    def predict(self, x):\n",
    "        frac, vert = self.forward(x)\n",
    "        return torch.sigmoid(frac), torch.sigmoid(vert)\n"
   ],
   "metadata": {
    "collapsed": false,
    "pycharm": {
     "name": "#%%\n"
    }
   }
  },
  {
   "cell_type": "code",
   "execution_count": 66,
   "outputs": [],
   "source": [
    "def filter_nones(b):\n",
    "    return torch.utils.data.default_collate([v for v in b if v is not None])\n",
    "\n",
    "def evaluate_effnet(model: EffnetModel, dl_test, max_batches=PREDICT_MAX_BATCHES, shuffle=False):\n",
    "    torch.manual_seed(42)\n",
    "    model = model.to(DEVICE)\n",
    "    # dl_test = torch.utils.data.DataLoader(ds, batch_size=BATCH_SIZE, shuffle=shuffle, num_workers=os.cpu_count(),\n",
    "                                          # collate_fn=filter_nones)\n",
    "    pred_frac = []\n",
    "    pred_vert = []\n",
    "    with torch.no_grad():\n",
    "        model.eval()\n",
    "        frac_losses = []\n",
    "        vert_losses = []\n",
    "        with tqdm(dl_test, desc='Eval', miniters=10) as progress:\n",
    "            for i, (X, y_frac, y_vert) in enumerate(progress):\n",
    "                with autocast():\n",
    "                    y_frac_pred, y_vert_pred = model.forward(X.to(DEVICE))\n",
    "                    frac_loss = weighted_loss(y_frac_pred, y_frac.to(DEVICE)).item()\n",
    "                    vert_loss = torch.nn.functional.binary_cross_entropy_with_logits(y_vert_pred, y_vert.to(DEVICE)).item()\n",
    "                    pred_frac.append(torch.sigmoid(y_frac_pred))\n",
    "                    pred_vert.append(torch.sigmoid(y_vert_pred))\n",
    "                    frac_losses.append(frac_loss)\n",
    "                    vert_losses.append(vert_loss)\n",
    "\n",
    "                if i >= max_batches:\n",
    "                    break\n",
    "        return np.mean(frac_losses), np.mean(vert_losses), torch.concat(pred_frac).cpu().numpy(), torch.concat(pred_vert).cpu().numpy()"
   ],
   "metadata": {
    "collapsed": false,
    "pycharm": {
     "name": "#%%\n"
    }
   }
  },
  {
   "cell_type": "code",
   "execution_count": 67,
   "outputs": [
    {
     "data": {
      "text/plain": "Eval:   0%|          | 0/142247 [00:00<?, ?it/s]",
      "application/vnd.jupyter.widget-view+json": {
       "version_major": 2,
       "version_minor": 0,
       "model_id": "fe9e494bea8046caa756267dd0d8a557"
      }
     },
     "metadata": {},
     "output_type": "display_data"
    }
   ],
   "source": [
    "fold = 0\n",
    "ds_train = EffnetDataSet(df_train.query('split != @fold'), TRAIN_IMAGES_PATH, A.Compose([\n",
    "                      A.Resize(512, 512),\n",
    "                      A.HorizontalFlip(p=0.5),\n",
    "                      # # A.RandomContrast(p=0.5),\n",
    "                      # # A.RandomBrightness(p=0.5),\n",
    "                      # A.Normalize(mean=(0.485, 0.456, 0.406), std=(0.229, 0.224, 0.225)),\n",
    "                      # # A.RandomBrightness(limit=2, p=0.5),\n",
    "                      # A.ShiftScaleRotate(shift_limit=0.0625, scale_limit=0.05, rotate_limit=10, p=0.2),\n",
    "                      #\n",
    "                      # A.OneOf([\n",
    "                      #     A.MotionBlur(p=0.2),\n",
    "                      #     A.MedianBlur(blur_limit=3, p=0.1),\n",
    "                      #     A.Blur(blur_limit=3, p=0.1),\n",
    "                      # ], p=0.5),\n",
    "                      ToTensorV2(),\n",
    "\n",
    "                      ])\n",
    "                  )\n",
    "\n",
    "ds_val = EffnetDataSet(df_train.query('split == @fold'), TRAIN_IMAGES_PATH,A.Compose([\n",
    "                      A.Resize(512, 512),\n",
    "                      # A.Normalize(mean=(0.485, 0.456, 0.406), std=(0.229, 0.224, 0.225)),\n",
    "                      ToTensorV2(),\n",
    "                      ])\n",
    "                  )\n",
    "\n",
    "# train_loader = torch.utils.data.DataLoader(ds_train, batch_size=16, shuffle=True, num_workers=10)\n",
    "val_loader = torch.utils.data.DataLoader(ds_val, batch_size=1, shuffle=False, num_workers=0)\n",
    "\n",
    "model = EffnetModel()\n",
    "\n",
    "model.load_state_dict(torch.load('../output/ckpt-2d/ENV2_1012_512_loss0.1878.tph'))\n",
    "\n",
    "frac_loss, vert_loss, effnet_pred_frac, effnet_pred_vert = evaluate_effnet(model, val_loader, PREDICT_MAX_BATCHES)"
   ],
   "metadata": {
    "collapsed": false,
    "pycharm": {
     "name": "#%%\n"
    }
   }
  },
  {
   "cell_type": "code",
   "execution_count": 68,
   "outputs": [
    {
     "data": {
      "text/plain": "               StudyInstanceUID  Slice  ImageHeight  ImageWidth  \\\n0     1.2.826.0.1.3680043.10032      1          512         512   \n1     1.2.826.0.1.3680043.10032      2          512         512   \n2     1.2.826.0.1.3680043.10032      3          512         512   \n3     1.2.826.0.1.3680043.10032      4          512         512   \n4     1.2.826.0.1.3680043.10032      5          512         512   \n...                         ...    ...          ...         ...   \n4996   1.2.826.0.1.3680043.1102    258          512         512   \n4997   1.2.826.0.1.3680043.1102    259          512         512   \n4998   1.2.826.0.1.3680043.1102    260          512         512   \n4999   1.2.826.0.1.3680043.1102    261          512         512   \n5000   1.2.826.0.1.3680043.1102    262          512         512   \n\n      SliceThickness  ImagePositionPatient_x  ImagePositionPatient_y  \\\n0              0.625                 -82.000                  11.712   \n1              0.625                 -82.000                  11.712   \n2              0.625                 -82.000                  11.712   \n3              0.625                 -82.000                  11.712   \n4              0.625                 -82.000                  11.712   \n...              ...                     ...                     ...   \n4996           0.625                 -99.174                 -64.166   \n4997           0.625                 -99.174                 -64.166   \n4998           0.625                 -99.174                 -64.166   \n4999           0.625                 -99.174                 -64.166   \n5000           0.625                 -99.174                 -64.166   \n\n      ImagePositionPatient_z  C1  C2  ...  C5_effnet_frac  C6_effnet_frac  \\\n0                     37.166   0   0  ...        0.000000    1.788139e-07   \n1                     36.541   0   0  ...        0.000000    5.960464e-08   \n2                     35.916   0   0  ...        0.000000    0.000000e+00   \n3                     35.291   0   0  ...        0.000000    0.000000e+00   \n4                     34.666   0   0  ...        0.000000    5.960464e-08   \n...                      ...  ..  ..  ...             ...             ...   \n4996                 -58.925   0   1  ...        0.000052    8.230209e-04   \n4997                 -58.475   0   1  ...        0.000057    8.726120e-04   \n4998                 -58.025   0   1  ...        0.000048    9.002686e-04   \n4999                 -57.575   0   1  ...        0.000036    9.002686e-04   \n5000                 -57.125   0   1  ...        0.000022    7.352829e-04   \n\n      C7_effnet_frac  C1_effnet_vert  C2_effnet_vert  C3_effnet_vert  \\\n0           0.000008    1.788139e-07    1.490116e-06    5.960464e-08   \n1           0.000003    1.192093e-07    1.013279e-06    5.960464e-08   \n2           0.000002    5.960464e-08    7.748604e-07    5.960464e-08   \n3           0.000003    5.960464e-08    5.960464e-07    5.960464e-08   \n4           0.000004    5.960464e-08    6.556511e-07    5.960464e-08   \n...              ...             ...             ...             ...   \n4996        0.000360    2.779007e-03    9.975586e-01    2.032518e-05   \n4997        0.000339    3.259659e-03    9.975586e-01    1.394749e-05   \n4998        0.000380    2.912521e-03    9.980469e-01    1.096725e-05   \n4999        0.000429    2.758026e-03    9.990234e-01    7.748604e-06   \n5000        0.000458    2.378464e-03    9.995117e-01    3.337860e-06   \n\n      C4_effnet_vert  C5_effnet_vert  C6_effnet_vert  C7_effnet_vert  \n0           0.000000        0.000000        0.000000    1.668930e-06  \n1           0.000000        0.000000        0.000000    2.384186e-07  \n2           0.000000        0.000000        0.000000    5.960464e-08  \n3           0.000000        0.000000        0.000000    1.192093e-07  \n4           0.000000        0.000000        0.000000    2.980232e-07  \n...              ...             ...             ...             ...  \n4996        0.000009        0.000197        0.000125    6.061792e-05  \n4997        0.000008        0.000220        0.000131    5.918741e-05  \n4998        0.000005        0.000158        0.000127    7.724762e-05  \n4999        0.000003        0.000106        0.000116    9.840727e-05  \n5000        0.000001        0.000052        0.000074    1.302958e-04  \n\n[5001 rows x 38 columns]",
      "text/html": "<div>\n<style scoped>\n    .dataframe tbody tr th:only-of-type {\n        vertical-align: middle;\n    }\n\n    .dataframe tbody tr th {\n        vertical-align: top;\n    }\n\n    .dataframe thead th {\n        text-align: right;\n    }\n</style>\n<table border=\"1\" class=\"dataframe\">\n  <thead>\n    <tr style=\"text-align: right;\">\n      <th></th>\n      <th>StudyInstanceUID</th>\n      <th>Slice</th>\n      <th>ImageHeight</th>\n      <th>ImageWidth</th>\n      <th>SliceThickness</th>\n      <th>ImagePositionPatient_x</th>\n      <th>ImagePositionPatient_y</th>\n      <th>ImagePositionPatient_z</th>\n      <th>C1</th>\n      <th>C2</th>\n      <th>...</th>\n      <th>C5_effnet_frac</th>\n      <th>C6_effnet_frac</th>\n      <th>C7_effnet_frac</th>\n      <th>C1_effnet_vert</th>\n      <th>C2_effnet_vert</th>\n      <th>C3_effnet_vert</th>\n      <th>C4_effnet_vert</th>\n      <th>C5_effnet_vert</th>\n      <th>C6_effnet_vert</th>\n      <th>C7_effnet_vert</th>\n    </tr>\n  </thead>\n  <tbody>\n    <tr>\n      <th>0</th>\n      <td>1.2.826.0.1.3680043.10032</td>\n      <td>1</td>\n      <td>512</td>\n      <td>512</td>\n      <td>0.625</td>\n      <td>-82.000</td>\n      <td>11.712</td>\n      <td>37.166</td>\n      <td>0</td>\n      <td>0</td>\n      <td>...</td>\n      <td>0.000000</td>\n      <td>1.788139e-07</td>\n      <td>0.000008</td>\n      <td>1.788139e-07</td>\n      <td>1.490116e-06</td>\n      <td>5.960464e-08</td>\n      <td>0.000000</td>\n      <td>0.000000</td>\n      <td>0.000000</td>\n      <td>1.668930e-06</td>\n    </tr>\n    <tr>\n      <th>1</th>\n      <td>1.2.826.0.1.3680043.10032</td>\n      <td>2</td>\n      <td>512</td>\n      <td>512</td>\n      <td>0.625</td>\n      <td>-82.000</td>\n      <td>11.712</td>\n      <td>36.541</td>\n      <td>0</td>\n      <td>0</td>\n      <td>...</td>\n      <td>0.000000</td>\n      <td>5.960464e-08</td>\n      <td>0.000003</td>\n      <td>1.192093e-07</td>\n      <td>1.013279e-06</td>\n      <td>5.960464e-08</td>\n      <td>0.000000</td>\n      <td>0.000000</td>\n      <td>0.000000</td>\n      <td>2.384186e-07</td>\n    </tr>\n    <tr>\n      <th>2</th>\n      <td>1.2.826.0.1.3680043.10032</td>\n      <td>3</td>\n      <td>512</td>\n      <td>512</td>\n      <td>0.625</td>\n      <td>-82.000</td>\n      <td>11.712</td>\n      <td>35.916</td>\n      <td>0</td>\n      <td>0</td>\n      <td>...</td>\n      <td>0.000000</td>\n      <td>0.000000e+00</td>\n      <td>0.000002</td>\n      <td>5.960464e-08</td>\n      <td>7.748604e-07</td>\n      <td>5.960464e-08</td>\n      <td>0.000000</td>\n      <td>0.000000</td>\n      <td>0.000000</td>\n      <td>5.960464e-08</td>\n    </tr>\n    <tr>\n      <th>3</th>\n      <td>1.2.826.0.1.3680043.10032</td>\n      <td>4</td>\n      <td>512</td>\n      <td>512</td>\n      <td>0.625</td>\n      <td>-82.000</td>\n      <td>11.712</td>\n      <td>35.291</td>\n      <td>0</td>\n      <td>0</td>\n      <td>...</td>\n      <td>0.000000</td>\n      <td>0.000000e+00</td>\n      <td>0.000003</td>\n      <td>5.960464e-08</td>\n      <td>5.960464e-07</td>\n      <td>5.960464e-08</td>\n      <td>0.000000</td>\n      <td>0.000000</td>\n      <td>0.000000</td>\n      <td>1.192093e-07</td>\n    </tr>\n    <tr>\n      <th>4</th>\n      <td>1.2.826.0.1.3680043.10032</td>\n      <td>5</td>\n      <td>512</td>\n      <td>512</td>\n      <td>0.625</td>\n      <td>-82.000</td>\n      <td>11.712</td>\n      <td>34.666</td>\n      <td>0</td>\n      <td>0</td>\n      <td>...</td>\n      <td>0.000000</td>\n      <td>5.960464e-08</td>\n      <td>0.000004</td>\n      <td>5.960464e-08</td>\n      <td>6.556511e-07</td>\n      <td>5.960464e-08</td>\n      <td>0.000000</td>\n      <td>0.000000</td>\n      <td>0.000000</td>\n      <td>2.980232e-07</td>\n    </tr>\n    <tr>\n      <th>...</th>\n      <td>...</td>\n      <td>...</td>\n      <td>...</td>\n      <td>...</td>\n      <td>...</td>\n      <td>...</td>\n      <td>...</td>\n      <td>...</td>\n      <td>...</td>\n      <td>...</td>\n      <td>...</td>\n      <td>...</td>\n      <td>...</td>\n      <td>...</td>\n      <td>...</td>\n      <td>...</td>\n      <td>...</td>\n      <td>...</td>\n      <td>...</td>\n      <td>...</td>\n      <td>...</td>\n    </tr>\n    <tr>\n      <th>4996</th>\n      <td>1.2.826.0.1.3680043.1102</td>\n      <td>258</td>\n      <td>512</td>\n      <td>512</td>\n      <td>0.625</td>\n      <td>-99.174</td>\n      <td>-64.166</td>\n      <td>-58.925</td>\n      <td>0</td>\n      <td>1</td>\n      <td>...</td>\n      <td>0.000052</td>\n      <td>8.230209e-04</td>\n      <td>0.000360</td>\n      <td>2.779007e-03</td>\n      <td>9.975586e-01</td>\n      <td>2.032518e-05</td>\n      <td>0.000009</td>\n      <td>0.000197</td>\n      <td>0.000125</td>\n      <td>6.061792e-05</td>\n    </tr>\n    <tr>\n      <th>4997</th>\n      <td>1.2.826.0.1.3680043.1102</td>\n      <td>259</td>\n      <td>512</td>\n      <td>512</td>\n      <td>0.625</td>\n      <td>-99.174</td>\n      <td>-64.166</td>\n      <td>-58.475</td>\n      <td>0</td>\n      <td>1</td>\n      <td>...</td>\n      <td>0.000057</td>\n      <td>8.726120e-04</td>\n      <td>0.000339</td>\n      <td>3.259659e-03</td>\n      <td>9.975586e-01</td>\n      <td>1.394749e-05</td>\n      <td>0.000008</td>\n      <td>0.000220</td>\n      <td>0.000131</td>\n      <td>5.918741e-05</td>\n    </tr>\n    <tr>\n      <th>4998</th>\n      <td>1.2.826.0.1.3680043.1102</td>\n      <td>260</td>\n      <td>512</td>\n      <td>512</td>\n      <td>0.625</td>\n      <td>-99.174</td>\n      <td>-64.166</td>\n      <td>-58.025</td>\n      <td>0</td>\n      <td>1</td>\n      <td>...</td>\n      <td>0.000048</td>\n      <td>9.002686e-04</td>\n      <td>0.000380</td>\n      <td>2.912521e-03</td>\n      <td>9.980469e-01</td>\n      <td>1.096725e-05</td>\n      <td>0.000005</td>\n      <td>0.000158</td>\n      <td>0.000127</td>\n      <td>7.724762e-05</td>\n    </tr>\n    <tr>\n      <th>4999</th>\n      <td>1.2.826.0.1.3680043.1102</td>\n      <td>261</td>\n      <td>512</td>\n      <td>512</td>\n      <td>0.625</td>\n      <td>-99.174</td>\n      <td>-64.166</td>\n      <td>-57.575</td>\n      <td>0</td>\n      <td>1</td>\n      <td>...</td>\n      <td>0.000036</td>\n      <td>9.002686e-04</td>\n      <td>0.000429</td>\n      <td>2.758026e-03</td>\n      <td>9.990234e-01</td>\n      <td>7.748604e-06</td>\n      <td>0.000003</td>\n      <td>0.000106</td>\n      <td>0.000116</td>\n      <td>9.840727e-05</td>\n    </tr>\n    <tr>\n      <th>5000</th>\n      <td>1.2.826.0.1.3680043.1102</td>\n      <td>262</td>\n      <td>512</td>\n      <td>512</td>\n      <td>0.625</td>\n      <td>-99.174</td>\n      <td>-64.166</td>\n      <td>-57.125</td>\n      <td>0</td>\n      <td>1</td>\n      <td>...</td>\n      <td>0.000022</td>\n      <td>7.352829e-04</td>\n      <td>0.000458</td>\n      <td>2.378464e-03</td>\n      <td>9.995117e-01</td>\n      <td>3.337860e-06</td>\n      <td>0.000001</td>\n      <td>0.000052</td>\n      <td>0.000074</td>\n      <td>1.302958e-04</td>\n    </tr>\n  </tbody>\n</table>\n<p>5001 rows × 38 columns</p>\n</div>"
     },
     "execution_count": 68,
     "metadata": {},
     "output_type": "execute_result"
    }
   ],
   "source": [
    "df_pred = []\n",
    "fold = 0\n",
    "df_effnet_pred = pd.DataFrame(data=np.concatenate([effnet_pred_frac, effnet_pred_vert], axis=1),\n",
    "                              columns=[f'C{i}_effnet_frac' for i in range(1, 8)] +\n",
    "                                      [f'C{i}_effnet_vert' for i in range(1, 8)])\n",
    "df = pd.concat([df_train.query('split == @fold').head(len(df_effnet_pred)).reset_index(drop=True), df_effnet_pred],axis=1).sort_values(['StudyInstanceUID', 'Slice'])\n",
    "df_pred.append(df)\n",
    "df_pred = pd.concat(df_pred)\n",
    "df_pred"
   ],
   "metadata": {
    "collapsed": false,
    "pycharm": {
     "name": "#%%\n"
    }
   }
  },
  {
   "cell_type": "code",
   "execution_count": 69,
   "outputs": [],
   "source": [
    "target_cols = ['patient_overall'] + [f'C{i}_fracture' for i in range(1, 8)]\n",
    "frac_cols = [f'C{i}_effnet_frac' for i in range(1, 8)]\n",
    "vert_cols = [f'C{i}_effnet_vert' for i in range(1, 8)]\n",
    "\n",
    "\n",
    "def patient_prediction(df):\n",
    "    c1c7 = np.average(df[frac_cols].values, axis=0, weights=df[vert_cols].values)\n",
    "    pred_patient_overall = 1 - np.prod(1 - c1c7)\n",
    "    return np.concatenate([[pred_patient_overall], c1c7])\n",
    "\n",
    "df_patient_pred = df_pred.groupby('StudyInstanceUID').apply(lambda df: patient_prediction(df)).to_frame('pred').join(df_pred.groupby('StudyInstanceUID')[target_cols].mean())"
   ],
   "metadata": {
    "collapsed": false,
    "pycharm": {
     "name": "#%%\n"
    }
   }
  },
  {
   "cell_type": "code",
   "execution_count": 70,
   "outputs": [
    {
     "data": {
      "text/plain": "array([[6.10107422e-01, 4.17480469e-02, 1.17187500e-01, 4.64477539e-02,\n        3.47595215e-02, 7.01293945e-02, 1.56616211e-01, 3.61572266e-01],\n       [6.99462891e-01, 4.61425781e-02, 1.93359375e-01, 5.61828613e-02,\n        1.02722168e-01, 1.71264648e-01, 1.70776367e-01, 3.29101562e-01],\n       [5.93505859e-01, 3.64990234e-02, 9.00268555e-02, 5.33447266e-02,\n        1.15966797e-01, 1.33300781e-01, 1.27563477e-01, 2.67578125e-01],\n       [6.13037109e-01, 1.40380859e-01, 3.34716797e-01, 3.99475098e-02,\n        2.81982422e-02, 7.65991211e-02, 7.01293945e-02, 1.54296875e-01],\n       [6.78955078e-01, 3.54919434e-02, 1.82373047e-01, 7.67211914e-02,\n        1.06506348e-01, 1.37451172e-01, 1.02539062e-01, 3.62548828e-01],\n       [4.19921875e-01, 1.27639771e-02, 1.20697021e-02, 6.38961792e-03,\n        1.95617676e-02, 4.56542969e-02, 8.85009766e-02, 2.98095703e-01],\n       [8.46069336e-01, 8.45947266e-02, 3.13232422e-01, 1.24450684e-01,\n        2.02514648e-01, 2.58544922e-01, 2.74169922e-01, 3.47900391e-01],\n       [4.70214844e-01, 3.72619629e-02, 4.70275879e-02, 6.34384155e-03,\n        1.49078369e-02, 1.27929688e-01, 1.57836914e-01, 1.97509766e-01],\n       [7.14599609e-01, 1.08154297e-01, 2.07763672e-01, 5.37109375e-02,\n        5.30395508e-02, 7.65380859e-02, 1.40502930e-01, 4.31396484e-01],\n       [8.81713867e-01, 1.63574219e-01, 4.88281250e-01, 1.48681641e-01,\n        1.24633789e-01, 1.52343750e-01, 1.40869141e-01, 4.90966797e-01],\n       [6.60888672e-01, 1.04125977e-01, 2.79785156e-01, 5.59692383e-02,\n        4.91638184e-02, 4.31518555e-02, 8.85009766e-02, 3.28613281e-01],\n       [7.15820312e-01, 9.75952148e-02, 2.34985352e-01, 2.40631104e-02,\n        7.80029297e-02, 1.50146484e-01, 1.26342773e-01, 3.83789062e-01],\n       [7.51464844e-01, 9.16137695e-02, 3.16406250e-01, 8.94775391e-02,\n        1.12121582e-01, 1.40502930e-01, 1.40502930e-01, 3.29589844e-01],\n       [4.97558594e-01, 6.95228577e-04, 7.33642578e-02, 3.12805176e-02,\n        1.93786621e-02, 3.92150879e-02, 1.35498047e-01, 3.12500000e-01]])"
     },
     "execution_count": 70,
     "metadata": {},
     "output_type": "execute_result"
    }
   ],
   "source": [
    "predictions = np.stack(df_patient_pred.pred.values.tolist())\n",
    "predictions"
   ],
   "metadata": {
    "collapsed": false,
    "pycharm": {
     "name": "#%%\n"
    }
   }
  },
  {
   "cell_type": "code",
   "execution_count": 71,
   "outputs": [
    {
     "data": {
      "text/plain": "array([[0., 0., 0., 0., 0., 0., 0., 0.],\n       [1., 0., 0., 0., 1., 0., 0., 0.],\n       [0., 0., 0., 0., 0., 0., 0., 0.],\n       [0., 0., 0., 0., 0., 0., 0., 0.],\n       [1., 0., 0., 0., 0., 0., 0., 1.],\n       [0., 0., 0., 0., 0., 0., 0., 0.],\n       [1., 0., 0., 1., 0., 0., 0., 0.],\n       [1., 0., 0., 0., 0., 0., 1., 1.],\n       [0., 0., 0., 0., 0., 0., 0., 0.],\n       [1., 1., 1., 0., 0., 0., 0., 0.],\n       [1., 0., 1., 0., 0., 0., 0., 1.],\n       [0., 0., 0., 0., 0., 0., 0., 0.],\n       [0., 0., 0., 0., 0., 0., 0., 0.],\n       [0., 0., 0., 0., 0., 0., 0., 0.]])"
     },
     "execution_count": 71,
     "metadata": {},
     "output_type": "execute_result"
    }
   ],
   "source": [
    "targets = df_patient_pred[target_cols].values\n",
    "targets"
   ],
   "metadata": {
    "collapsed": false,
    "pycharm": {
     "name": "#%%\n"
    }
   }
  },
  {
   "cell_type": "code",
   "execution_count": 72,
   "outputs": [
    {
     "name": "stdout",
     "output_type": "stream",
     "text": [
      "CV score: tensor(0.5256, device='cuda:0', dtype=torch.float64)\n"
     ]
    }
   ],
   "source": [
    "print('CV score:', weighted_loss(torch.logit(torch.as_tensor(predictions)).to(DEVICE), torch.as_tensor(targets).to(DEVICE)))"
   ],
   "metadata": {
    "collapsed": false,
    "pycharm": {
     "name": "#%%\n"
    }
   }
  }
 ],
 "metadata": {
  "kernelspec": {
   "display_name": "Python 3",
   "language": "python",
   "name": "python3"
  },
  "language_info": {
   "codemirror_mode": {
    "name": "ipython",
    "version": 2
   },
   "file_extension": ".py",
   "mimetype": "text/x-python",
   "name": "python",
   "nbconvert_exporter": "python",
   "pygments_lexer": "ipython2",
   "version": "2.7.6"
  }
 },
 "nbformat": 4,
 "nbformat_minor": 0
}