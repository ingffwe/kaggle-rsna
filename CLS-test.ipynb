{
 "cells": [
  {
   "cell_type": "code",
   "execution_count": 2,
   "metadata": {
    "collapsed": true
   },
   "outputs": [],
   "source": [
    "import pandas as pd\n",
    "import numpy as np\n",
    "from glob import glob\n",
    "import random"
   ]
  },
  {
   "cell_type": "code",
   "execution_count": 4,
   "outputs": [
    {
     "ename": "KeyError",
     "evalue": "7217",
     "output_type": "error",
     "traceback": [
      "\u001B[1;31m---------------------------------------------------------------------------\u001B[0m",
      "\u001B[1;31mValueError\u001B[0m                                Traceback (most recent call last)",
      "File \u001B[1;32mW:\\Anaconda3\\envs\\UWMGI39\\lib\\site-packages\\pandas\\core\\indexes\\range.py:385\u001B[0m, in \u001B[0;36mRangeIndex.get_loc\u001B[1;34m(self, key, method, tolerance)\u001B[0m\n\u001B[0;32m    384\u001B[0m \u001B[38;5;28;01mtry\u001B[39;00m:\n\u001B[1;32m--> 385\u001B[0m     \u001B[38;5;28;01mreturn\u001B[39;00m \u001B[38;5;28;43mself\u001B[39;49m\u001B[38;5;241;43m.\u001B[39;49m\u001B[43m_range\u001B[49m\u001B[38;5;241;43m.\u001B[39;49m\u001B[43mindex\u001B[49m\u001B[43m(\u001B[49m\u001B[43mnew_key\u001B[49m\u001B[43m)\u001B[49m\n\u001B[0;32m    386\u001B[0m \u001B[38;5;28;01mexcept\u001B[39;00m \u001B[38;5;167;01mValueError\u001B[39;00m \u001B[38;5;28;01mas\u001B[39;00m err:\n",
      "\u001B[1;31mValueError\u001B[0m: 7217 is not in range",
      "\nThe above exception was the direct cause of the following exception:\n",
      "\u001B[1;31mKeyError\u001B[0m                                  Traceback (most recent call last)",
      "Input \u001B[1;32mIn [4]\u001B[0m, in \u001B[0;36m<cell line: 6>\u001B[1;34m()\u001B[0m\n\u001B[0;32m      4\u001B[0m paths \u001B[38;5;241m=\u001B[39m []\n\u001B[0;32m      5\u001B[0m ids \u001B[38;5;241m=\u001B[39m \u001B[38;5;28mset\u001B[39m()\n\u001B[1;32m----> 6\u001B[0m \u001B[38;5;28;01mfor\u001B[39;00m row \u001B[38;5;129;01min\u001B[39;00m bbox_df\u001B[38;5;241m.\u001B[39mloc():\n\u001B[0;32m      7\u001B[0m     \u001B[38;5;66;03m# print(row[0]) # 1.2.826.0.1.3680043.10051\u001B[39;00m\n\u001B[0;32m      8\u001B[0m     \u001B[38;5;66;03m# print(row[5]) # 133\u001B[39;00m\n\u001B[0;32m      9\u001B[0m     ids\u001B[38;5;241m.\u001B[39madd(row[\u001B[38;5;241m0\u001B[39m])\n\u001B[0;32m     10\u001B[0m     path \u001B[38;5;241m=\u001B[39m \u001B[38;5;124mf\u001B[39m\u001B[38;5;124m'\u001B[39m\u001B[38;5;124m../input/rsna-2022-cervical-spine-fracture-detection/train_images/\u001B[39m\u001B[38;5;132;01m{\u001B[39;00mrow[\u001B[38;5;241m0\u001B[39m]\u001B[38;5;132;01m}\u001B[39;00m\u001B[38;5;124m/\u001B[39m\u001B[38;5;132;01m{\u001B[39;00m\u001B[38;5;28mstr\u001B[39m(row[\u001B[38;5;241m5\u001B[39m])\u001B[38;5;132;01m}\u001B[39;00m\u001B[38;5;124m.dcm\u001B[39m\u001B[38;5;124m'\u001B[39m\n",
      "File \u001B[1;32mW:\\Anaconda3\\envs\\UWMGI39\\lib\\site-packages\\pandas\\core\\indexing.py:967\u001B[0m, in \u001B[0;36m_LocationIndexer.__getitem__\u001B[1;34m(self, key)\u001B[0m\n\u001B[0;32m    964\u001B[0m axis \u001B[38;5;241m=\u001B[39m \u001B[38;5;28mself\u001B[39m\u001B[38;5;241m.\u001B[39maxis \u001B[38;5;129;01mor\u001B[39;00m \u001B[38;5;241m0\u001B[39m\n\u001B[0;32m    966\u001B[0m maybe_callable \u001B[38;5;241m=\u001B[39m com\u001B[38;5;241m.\u001B[39mapply_if_callable(key, \u001B[38;5;28mself\u001B[39m\u001B[38;5;241m.\u001B[39mobj)\n\u001B[1;32m--> 967\u001B[0m \u001B[38;5;28;01mreturn\u001B[39;00m \u001B[38;5;28;43mself\u001B[39;49m\u001B[38;5;241;43m.\u001B[39;49m\u001B[43m_getitem_axis\u001B[49m\u001B[43m(\u001B[49m\u001B[43mmaybe_callable\u001B[49m\u001B[43m,\u001B[49m\u001B[43m \u001B[49m\u001B[43maxis\u001B[49m\u001B[38;5;241;43m=\u001B[39;49m\u001B[43maxis\u001B[49m\u001B[43m)\u001B[49m\n",
      "File \u001B[1;32mW:\\Anaconda3\\envs\\UWMGI39\\lib\\site-packages\\pandas\\core\\indexing.py:1202\u001B[0m, in \u001B[0;36m_LocIndexer._getitem_axis\u001B[1;34m(self, key, axis)\u001B[0m\n\u001B[0;32m   1200\u001B[0m \u001B[38;5;66;03m# fall thru to straight lookup\u001B[39;00m\n\u001B[0;32m   1201\u001B[0m \u001B[38;5;28mself\u001B[39m\u001B[38;5;241m.\u001B[39m_validate_key(key, axis)\n\u001B[1;32m-> 1202\u001B[0m \u001B[38;5;28;01mreturn\u001B[39;00m \u001B[38;5;28;43mself\u001B[39;49m\u001B[38;5;241;43m.\u001B[39;49m\u001B[43m_get_label\u001B[49m\u001B[43m(\u001B[49m\u001B[43mkey\u001B[49m\u001B[43m,\u001B[49m\u001B[43m \u001B[49m\u001B[43maxis\u001B[49m\u001B[38;5;241;43m=\u001B[39;49m\u001B[43maxis\u001B[49m\u001B[43m)\u001B[49m\n",
      "File \u001B[1;32mW:\\Anaconda3\\envs\\UWMGI39\\lib\\site-packages\\pandas\\core\\indexing.py:1153\u001B[0m, in \u001B[0;36m_LocIndexer._get_label\u001B[1;34m(self, label, axis)\u001B[0m\n\u001B[0;32m   1151\u001B[0m \u001B[38;5;28;01mdef\u001B[39;00m \u001B[38;5;21m_get_label\u001B[39m(\u001B[38;5;28mself\u001B[39m, label, axis: \u001B[38;5;28mint\u001B[39m):\n\u001B[0;32m   1152\u001B[0m     \u001B[38;5;66;03m# GH#5667 this will fail if the label is not present in the axis.\u001B[39;00m\n\u001B[1;32m-> 1153\u001B[0m     \u001B[38;5;28;01mreturn\u001B[39;00m \u001B[38;5;28;43mself\u001B[39;49m\u001B[38;5;241;43m.\u001B[39;49m\u001B[43mobj\u001B[49m\u001B[38;5;241;43m.\u001B[39;49m\u001B[43mxs\u001B[49m\u001B[43m(\u001B[49m\u001B[43mlabel\u001B[49m\u001B[43m,\u001B[49m\u001B[43m \u001B[49m\u001B[43maxis\u001B[49m\u001B[38;5;241;43m=\u001B[39;49m\u001B[43maxis\u001B[49m\u001B[43m)\u001B[49m\n",
      "File \u001B[1;32mW:\\Anaconda3\\envs\\UWMGI39\\lib\\site-packages\\pandas\\core\\generic.py:3864\u001B[0m, in \u001B[0;36mNDFrame.xs\u001B[1;34m(self, key, axis, level, drop_level)\u001B[0m\n\u001B[0;32m   3862\u001B[0m             new_index \u001B[38;5;241m=\u001B[39m index[loc]\n\u001B[0;32m   3863\u001B[0m \u001B[38;5;28;01melse\u001B[39;00m:\n\u001B[1;32m-> 3864\u001B[0m     loc \u001B[38;5;241m=\u001B[39m \u001B[43mindex\u001B[49m\u001B[38;5;241;43m.\u001B[39;49m\u001B[43mget_loc\u001B[49m\u001B[43m(\u001B[49m\u001B[43mkey\u001B[49m\u001B[43m)\u001B[49m\n\u001B[0;32m   3866\u001B[0m     \u001B[38;5;28;01mif\u001B[39;00m \u001B[38;5;28misinstance\u001B[39m(loc, np\u001B[38;5;241m.\u001B[39mndarray):\n\u001B[0;32m   3867\u001B[0m         \u001B[38;5;28;01mif\u001B[39;00m loc\u001B[38;5;241m.\u001B[39mdtype \u001B[38;5;241m==\u001B[39m np\u001B[38;5;241m.\u001B[39mbool_:\n",
      "File \u001B[1;32mW:\\Anaconda3\\envs\\UWMGI39\\lib\\site-packages\\pandas\\core\\indexes\\range.py:387\u001B[0m, in \u001B[0;36mRangeIndex.get_loc\u001B[1;34m(self, key, method, tolerance)\u001B[0m\n\u001B[0;32m    385\u001B[0m         \u001B[38;5;28;01mreturn\u001B[39;00m \u001B[38;5;28mself\u001B[39m\u001B[38;5;241m.\u001B[39m_range\u001B[38;5;241m.\u001B[39mindex(new_key)\n\u001B[0;32m    386\u001B[0m     \u001B[38;5;28;01mexcept\u001B[39;00m \u001B[38;5;167;01mValueError\u001B[39;00m \u001B[38;5;28;01mas\u001B[39;00m err:\n\u001B[1;32m--> 387\u001B[0m         \u001B[38;5;28;01mraise\u001B[39;00m \u001B[38;5;167;01mKeyError\u001B[39;00m(key) \u001B[38;5;28;01mfrom\u001B[39;00m \u001B[38;5;21;01merr\u001B[39;00m\n\u001B[0;32m    388\u001B[0m \u001B[38;5;28mself\u001B[39m\u001B[38;5;241m.\u001B[39m_check_indexing_error(key)\n\u001B[0;32m    389\u001B[0m \u001B[38;5;28;01mraise\u001B[39;00m \u001B[38;5;167;01mKeyError\u001B[39;00m(key)\n",
      "\u001B[1;31mKeyError\u001B[0m: 7217"
     ]
    }
   ],
   "source": [
    "bbox_df = pd.read_csv(r'W:\\PycharmProjects\\kaggle-RSNA\\input\\rsna-2022-cervical-spine-fracture-detection\\train_bounding_boxes.csv')\n",
    "df_frac = pd.DataFrame(columns=['path','label_int'])\n",
    "\n",
    "paths = []\n",
    "ids = set()\n",
    "for row in bbox_df.loc():\n",
    "    # print(row[0]) # 1.2.826.0.1.3680043.10051\n",
    "    # print(row[5]) # 133\n",
    "    ids.add(row[0])\n",
    "    path = f'../input/rsna-2022-cervical-spine-fracture-detection/train_images/{row[0]}/{str(row[5])}.dcm'\n",
    "    paths.append(path)\n"
   ],
   "metadata": {
    "collapsed": false,
    "pycharm": {
     "name": "#%%\n"
    }
   }
  },
  {
   "cell_type": "code",
   "execution_count": 6,
   "outputs": [
    {
     "name": "stdout",
     "output_type": "stream",
     "text": [
      "133\n",
      "134\n",
      "135\n",
      "136\n",
      "137\n",
      "138\n",
      "139\n",
      "140\n",
      "141\n",
      "142\n",
      "143\n",
      "144\n",
      "145\n",
      "146\n",
      "147\n",
      "148\n"
     ]
    }
   ],
   "source": [
    "for i in bbox_df.loc[bbox_df['StudyInstanceUID']=='1.2.826.0.1.3680043.10051'].loc[:,'slice_number']:\n",
    "    print(i)"
   ],
   "metadata": {
    "collapsed": false,
    "pycharm": {
     "name": "#%%\n"
    }
   }
  },
  {
   "cell_type": "code",
   "execution_count": 7,
   "outputs": [
    {
     "name": "stdout",
     "output_type": "stream",
     "text": [
      "235\n"
     ]
    }
   ],
   "source": [
    "print(ids.__len__())\n",
    "paths2 = []\n",
    "for id in ids:\n",
    "    all_slice = glob(f'../input/rsna-2022-cervical-spine-fracture-detection/train_images/{id}/*')\n",
    "    # print(all_slice)\n",
    "    for number in bbox_df.loc[bbox_df['StudyInstanceUID']==id].loc[:,'slice_number']:\n",
    "        # print(number)\n",
    "        all_slice.remove(f'../input/rsna-2022-cervical-spine-fracture-detection/train_images/{id}\\\\{str(number)}.dcm')\n",
    "    paths2.extend(all_slice)\n"
   ],
   "metadata": {
    "collapsed": false,
    "pycharm": {
     "name": "#%%\n"
    }
   }
  },
  {
   "cell_type": "code",
   "execution_count": 8,
   "outputs": [],
   "source": [
    "len(paths2)\n",
    "df_hc = pd.DataFrame(columns=['path','label_int'])\n",
    "\n",
    "random.shuffle(paths2)\n",
    "paths2 = paths2[:27217]\n",
    "df_hc.path = paths2\n",
    "df_hc.label_int = 1"
   ],
   "metadata": {
    "collapsed": false,
    "pycharm": {
     "name": "#%%\n"
    }
   }
  },
  {
   "cell_type": "code",
   "execution_count": 9,
   "outputs": [
    {
     "data": {
      "text/plain": "                                                   path  label_int\n0     ../input/rsna-2022-cervical-spine-fracture-det...          0\n1     ../input/rsna-2022-cervical-spine-fracture-det...          0\n2     ../input/rsna-2022-cervical-spine-fracture-det...          0\n3     ../input/rsna-2022-cervical-spine-fracture-det...          0\n4     ../input/rsna-2022-cervical-spine-fracture-det...          0\n...                                                 ...        ...\n7212  ../input/rsna-2022-cervical-spine-fracture-det...          0\n7213  ../input/rsna-2022-cervical-spine-fracture-det...          0\n7214  ../input/rsna-2022-cervical-spine-fracture-det...          0\n7215  ../input/rsna-2022-cervical-spine-fracture-det...          0\n7216  ../input/rsna-2022-cervical-spine-fracture-det...          0\n\n[7217 rows x 2 columns]",
      "text/html": "<div>\n<style scoped>\n    .dataframe tbody tr th:only-of-type {\n        vertical-align: middle;\n    }\n\n    .dataframe tbody tr th {\n        vertical-align: top;\n    }\n\n    .dataframe thead th {\n        text-align: right;\n    }\n</style>\n<table border=\"1\" class=\"dataframe\">\n  <thead>\n    <tr style=\"text-align: right;\">\n      <th></th>\n      <th>path</th>\n      <th>label_int</th>\n    </tr>\n  </thead>\n  <tbody>\n    <tr>\n      <th>0</th>\n      <td>../input/rsna-2022-cervical-spine-fracture-det...</td>\n      <td>0</td>\n    </tr>\n    <tr>\n      <th>1</th>\n      <td>../input/rsna-2022-cervical-spine-fracture-det...</td>\n      <td>0</td>\n    </tr>\n    <tr>\n      <th>2</th>\n      <td>../input/rsna-2022-cervical-spine-fracture-det...</td>\n      <td>0</td>\n    </tr>\n    <tr>\n      <th>3</th>\n      <td>../input/rsna-2022-cervical-spine-fracture-det...</td>\n      <td>0</td>\n    </tr>\n    <tr>\n      <th>4</th>\n      <td>../input/rsna-2022-cervical-spine-fracture-det...</td>\n      <td>0</td>\n    </tr>\n    <tr>\n      <th>...</th>\n      <td>...</td>\n      <td>...</td>\n    </tr>\n    <tr>\n      <th>7212</th>\n      <td>../input/rsna-2022-cervical-spine-fracture-det...</td>\n      <td>0</td>\n    </tr>\n    <tr>\n      <th>7213</th>\n      <td>../input/rsna-2022-cervical-spine-fracture-det...</td>\n      <td>0</td>\n    </tr>\n    <tr>\n      <th>7214</th>\n      <td>../input/rsna-2022-cervical-spine-fracture-det...</td>\n      <td>0</td>\n    </tr>\n    <tr>\n      <th>7215</th>\n      <td>../input/rsna-2022-cervical-spine-fracture-det...</td>\n      <td>0</td>\n    </tr>\n    <tr>\n      <th>7216</th>\n      <td>../input/rsna-2022-cervical-spine-fracture-det...</td>\n      <td>0</td>\n    </tr>\n  </tbody>\n</table>\n<p>7217 rows × 2 columns</p>\n</div>"
     },
     "execution_count": 9,
     "metadata": {},
     "output_type": "execute_result"
    }
   ],
   "source": [
    "df_frac.path = paths\n",
    "df_frac.label_int = 0\n",
    "df_frac"
   ],
   "metadata": {
    "collapsed": false,
    "pycharm": {
     "name": "#%%\n"
    }
   }
  },
  {
   "cell_type": "code",
   "execution_count": 34,
   "outputs": [
    {
     "data": {
      "text/plain": "                                                    path  label_int\n0      ../input/rsna-2022-cervical-spine-fracture-det...          0\n1      ../input/rsna-2022-cervical-spine-fracture-det...          0\n2      ../input/rsna-2022-cervical-spine-fracture-det...          0\n3      ../input/rsna-2022-cervical-spine-fracture-det...          0\n4      ../input/rsna-2022-cervical-spine-fracture-det...          0\n...                                                  ...        ...\n19995  ../input/rsna-2022-cervical-spine-fracture-det...          1\n19996  ../input/rsna-2022-cervical-spine-fracture-det...          1\n19997  ../input/rsna-2022-cervical-spine-fracture-det...          1\n19998  ../input/rsna-2022-cervical-spine-fracture-det...          1\n19999  ../input/rsna-2022-cervical-spine-fracture-det...          1\n\n[27217 rows x 2 columns]",
      "text/html": "<div>\n<style scoped>\n    .dataframe tbody tr th:only-of-type {\n        vertical-align: middle;\n    }\n\n    .dataframe tbody tr th {\n        vertical-align: top;\n    }\n\n    .dataframe thead th {\n        text-align: right;\n    }\n</style>\n<table border=\"1\" class=\"dataframe\">\n  <thead>\n    <tr style=\"text-align: right;\">\n      <th></th>\n      <th>path</th>\n      <th>label_int</th>\n    </tr>\n  </thead>\n  <tbody>\n    <tr>\n      <th>0</th>\n      <td>../input/rsna-2022-cervical-spine-fracture-det...</td>\n      <td>0</td>\n    </tr>\n    <tr>\n      <th>1</th>\n      <td>../input/rsna-2022-cervical-spine-fracture-det...</td>\n      <td>0</td>\n    </tr>\n    <tr>\n      <th>2</th>\n      <td>../input/rsna-2022-cervical-spine-fracture-det...</td>\n      <td>0</td>\n    </tr>\n    <tr>\n      <th>3</th>\n      <td>../input/rsna-2022-cervical-spine-fracture-det...</td>\n      <td>0</td>\n    </tr>\n    <tr>\n      <th>4</th>\n      <td>../input/rsna-2022-cervical-spine-fracture-det...</td>\n      <td>0</td>\n    </tr>\n    <tr>\n      <th>...</th>\n      <td>...</td>\n      <td>...</td>\n    </tr>\n    <tr>\n      <th>19995</th>\n      <td>../input/rsna-2022-cervical-spine-fracture-det...</td>\n      <td>1</td>\n    </tr>\n    <tr>\n      <th>19996</th>\n      <td>../input/rsna-2022-cervical-spine-fracture-det...</td>\n      <td>1</td>\n    </tr>\n    <tr>\n      <th>19997</th>\n      <td>../input/rsna-2022-cervical-spine-fracture-det...</td>\n      <td>1</td>\n    </tr>\n    <tr>\n      <th>19998</th>\n      <td>../input/rsna-2022-cervical-spine-fracture-det...</td>\n      <td>1</td>\n    </tr>\n    <tr>\n      <th>19999</th>\n      <td>../input/rsna-2022-cervical-spine-fracture-det...</td>\n      <td>1</td>\n    </tr>\n  </tbody>\n</table>\n<p>27217 rows × 2 columns</p>\n</div>"
     },
     "execution_count": 34,
     "metadata": {},
     "output_type": "execute_result"
    }
   ],
   "source": [
    "df = pd.concat([df_frac,df_duizhaozu])\n",
    "df.to_csv('../input/缺陷二分类.csv')\n",
    "df"
   ],
   "metadata": {
    "collapsed": false,
    "pycharm": {
     "name": "#%%\n"
    }
   }
  },
  {
   "cell_type": "markdown",
   "source": [
    "把没骨折的被试的全部切片或者C2切片放进来训练"
   ],
   "metadata": {
    "collapsed": false
   }
  },
  {
   "cell_type": "code",
   "execution_count": 33,
   "outputs": [
    {
     "data": {
      "text/plain": "                                                    path  label_int\n0      ../input/rsna-2022-cervical-spine-fracture-det...          1\n1      ../input/rsna-2022-cervical-spine-fracture-det...          1\n2      ../input/rsna-2022-cervical-spine-fracture-det...          1\n3      ../input/rsna-2022-cervical-spine-fracture-det...          1\n4      ../input/rsna-2022-cervical-spine-fracture-det...          1\n...                                                  ...        ...\n19995  ../input/rsna-2022-cervical-spine-fracture-det...          1\n19996  ../input/rsna-2022-cervical-spine-fracture-det...          1\n19997  ../input/rsna-2022-cervical-spine-fracture-det...          1\n19998  ../input/rsna-2022-cervical-spine-fracture-det...          1\n19999  ../input/rsna-2022-cervical-spine-fracture-det...          1\n\n[20000 rows x 2 columns]",
      "text/html": "<div>\n<style scoped>\n    .dataframe tbody tr th:only-of-type {\n        vertical-align: middle;\n    }\n\n    .dataframe tbody tr th {\n        vertical-align: top;\n    }\n\n    .dataframe thead th {\n        text-align: right;\n    }\n</style>\n<table border=\"1\" class=\"dataframe\">\n  <thead>\n    <tr style=\"text-align: right;\">\n      <th></th>\n      <th>path</th>\n      <th>label_int</th>\n    </tr>\n  </thead>\n  <tbody>\n    <tr>\n      <th>0</th>\n      <td>../input/rsna-2022-cervical-spine-fracture-det...</td>\n      <td>1</td>\n    </tr>\n    <tr>\n      <th>1</th>\n      <td>../input/rsna-2022-cervical-spine-fracture-det...</td>\n      <td>1</td>\n    </tr>\n    <tr>\n      <th>2</th>\n      <td>../input/rsna-2022-cervical-spine-fracture-det...</td>\n      <td>1</td>\n    </tr>\n    <tr>\n      <th>3</th>\n      <td>../input/rsna-2022-cervical-spine-fracture-det...</td>\n      <td>1</td>\n    </tr>\n    <tr>\n      <th>4</th>\n      <td>../input/rsna-2022-cervical-spine-fracture-det...</td>\n      <td>1</td>\n    </tr>\n    <tr>\n      <th>...</th>\n      <td>...</td>\n      <td>...</td>\n    </tr>\n    <tr>\n      <th>19995</th>\n      <td>../input/rsna-2022-cervical-spine-fracture-det...</td>\n      <td>1</td>\n    </tr>\n    <tr>\n      <th>19996</th>\n      <td>../input/rsna-2022-cervical-spine-fracture-det...</td>\n      <td>1</td>\n    </tr>\n    <tr>\n      <th>19997</th>\n      <td>../input/rsna-2022-cervical-spine-fracture-det...</td>\n      <td>1</td>\n    </tr>\n    <tr>\n      <th>19998</th>\n      <td>../input/rsna-2022-cervical-spine-fracture-det...</td>\n      <td>1</td>\n    </tr>\n    <tr>\n      <th>19999</th>\n      <td>../input/rsna-2022-cervical-spine-fracture-det...</td>\n      <td>1</td>\n    </tr>\n  </tbody>\n</table>\n<p>20000 rows × 2 columns</p>\n</div>"
     },
     "execution_count": 33,
     "metadata": {},
     "output_type": "execute_result"
    }
   ],
   "source": [
    "train_df = pd.read_csv(r'W:\\PycharmProjects\\kaggle-RSNA\\input\\rsna-2022-cervical-spine-fracture-detection\\train.csv')\n",
    "ids = train_df.loc[train_df['patient_overall']==0]['StudyInstanceUID']\n",
    "ids = np.array(ids)\n",
    "ids = ids.tolist()\n",
    "ids\n",
    "paths = []\n",
    "for id in ids:\n",
    "    path = glob(f'../input/rsna-2022-cervical-spine-fracture-detection/train_images/{id}/??1.dcm')\n",
    "        # path = f'../input/rsna-2022-cervical-spine-fracture-detection/train_images/{id}/{str(i)}.dcm'\n",
    "    paths.extend(path)\n",
    "df_duizhaozu = pd.DataFrame(columns=['path','label_int'])\n",
    "df_duizhaozu['path'] = paths[:20000]\n",
    "df_duizhaozu['label_int'] = 1\n",
    "\n",
    "df_duizhaozu"
   ],
   "metadata": {
    "collapsed": false,
    "pycharm": {
     "name": "#%%\n"
    }
   }
  },
  {
   "cell_type": "code",
   "execution_count": 1,
   "outputs": [
    {
     "data": {
      "text/plain": "'2.dcm'"
     },
     "execution_count": 1,
     "metadata": {},
     "output_type": "execute_result"
    }
   ],
   "source": [
    "import os\n",
    "os.path.basename('../input/rsna-2022-cervical-spine-fracture-detection/train_images/1.2.826.0.1.3680043.61/2.dcm')"
   ],
   "metadata": {
    "collapsed": false,
    "pycharm": {
     "name": "#%%\n"
    }
   }
  }
 ],
 "metadata": {
  "kernelspec": {
   "display_name": "Python 3",
   "language": "python",
   "name": "python3"
  },
  "language_info": {
   "codemirror_mode": {
    "name": "ipython",
    "version": 2
   },
   "file_extension": ".py",
   "mimetype": "text/x-python",
   "name": "python",
   "nbconvert_exporter": "python",
   "pygments_lexer": "ipython2",
   "version": "2.7.6"
  }
 },
 "nbformat": 4,
 "nbformat_minor": 0
}