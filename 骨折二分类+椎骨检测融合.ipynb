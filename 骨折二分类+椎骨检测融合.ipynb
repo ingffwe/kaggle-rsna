{
 "cells": [
  {
   "cell_type": "code",
   "execution_count": 1,
   "outputs": [],
   "source": [
    "import pandas as pd\n",
    "import torch\n",
    "import numpy as np\n",
    "from torch.utils.data.dataset import Dataset\n",
    "import timm\n",
    "import pydicom as dicom\n",
    "import cv2\n",
    "from glob import glob\n",
    "import albumentations as A\n",
    "from albumentations.pytorch import ToTensorV2\n",
    "from tqdm.notebook import tqdm\n",
    "from torch import nn\n"
   ],
   "metadata": {
    "collapsed": false,
    "pycharm": {
     "name": "#%%\n"
    }
   }
  },
  {
   "cell_type": "code",
   "execution_count": 2,
   "metadata": {
    "collapsed": true
   },
   "outputs": [
    {
     "name": "stdout",
     "output_type": "stream",
     "text": [
      "711601\n"
     ]
    },
    {
     "data": {
      "text/plain": "            StudyInstanceUID  Slice  ImageHeight  ImageWidth  SliceThickness  \\\n0  1.2.826.0.1.3680043.10001      1          512         512           0.625   \n1  1.2.826.0.1.3680043.10001      2          512         512           0.625   \n2  1.2.826.0.1.3680043.10001      3          512         512           0.625   \n3  1.2.826.0.1.3680043.10001      4          512         512           0.625   \n4  1.2.826.0.1.3680043.10001      5          512         512           0.625   \n\n   ImagePositionPatient_x  ImagePositionPatient_y  ImagePositionPatient_z  \\\n0                 -52.308                 -27.712                   7.282   \n1                 -52.308                 -27.712                   6.657   \n2                 -52.308                 -27.712                   6.032   \n3                 -52.308                 -27.712                   5.407   \n4                 -52.308                 -27.712                   4.782   \n\n         C1        C2        C3        C4        C5        C6        C7  \n0  0.005208  0.015055  0.003290  0.000895  0.001614  0.004632  0.002570  \n1  0.005675  0.015945  0.002117  0.000562  0.001265  0.005648  0.004136  \n2  0.006624  0.030292  0.003079  0.000677  0.000882  0.002238  0.002877  \n3  0.006572  0.022294  0.003103  0.000975  0.001164  0.002434  0.002715  \n4  0.004945  0.022388  0.003236  0.000826  0.000662  0.002304  0.006849  ",
      "text/html": "<div>\n<style scoped>\n    .dataframe tbody tr th:only-of-type {\n        vertical-align: middle;\n    }\n\n    .dataframe tbody tr th {\n        vertical-align: top;\n    }\n\n    .dataframe thead th {\n        text-align: right;\n    }\n</style>\n<table border=\"1\" class=\"dataframe\">\n  <thead>\n    <tr style=\"text-align: right;\">\n      <th></th>\n      <th>StudyInstanceUID</th>\n      <th>Slice</th>\n      <th>ImageHeight</th>\n      <th>ImageWidth</th>\n      <th>SliceThickness</th>\n      <th>ImagePositionPatient_x</th>\n      <th>ImagePositionPatient_y</th>\n      <th>ImagePositionPatient_z</th>\n      <th>C1</th>\n      <th>C2</th>\n      <th>C3</th>\n      <th>C4</th>\n      <th>C5</th>\n      <th>C6</th>\n      <th>C7</th>\n    </tr>\n  </thead>\n  <tbody>\n    <tr>\n      <th>0</th>\n      <td>1.2.826.0.1.3680043.10001</td>\n      <td>1</td>\n      <td>512</td>\n      <td>512</td>\n      <td>0.625</td>\n      <td>-52.308</td>\n      <td>-27.712</td>\n      <td>7.282</td>\n      <td>0.005208</td>\n      <td>0.015055</td>\n      <td>0.003290</td>\n      <td>0.000895</td>\n      <td>0.001614</td>\n      <td>0.004632</td>\n      <td>0.002570</td>\n    </tr>\n    <tr>\n      <th>1</th>\n      <td>1.2.826.0.1.3680043.10001</td>\n      <td>2</td>\n      <td>512</td>\n      <td>512</td>\n      <td>0.625</td>\n      <td>-52.308</td>\n      <td>-27.712</td>\n      <td>6.657</td>\n      <td>0.005675</td>\n      <td>0.015945</td>\n      <td>0.002117</td>\n      <td>0.000562</td>\n      <td>0.001265</td>\n      <td>0.005648</td>\n      <td>0.004136</td>\n    </tr>\n    <tr>\n      <th>2</th>\n      <td>1.2.826.0.1.3680043.10001</td>\n      <td>3</td>\n      <td>512</td>\n      <td>512</td>\n      <td>0.625</td>\n      <td>-52.308</td>\n      <td>-27.712</td>\n      <td>6.032</td>\n      <td>0.006624</td>\n      <td>0.030292</td>\n      <td>0.003079</td>\n      <td>0.000677</td>\n      <td>0.000882</td>\n      <td>0.002238</td>\n      <td>0.002877</td>\n    </tr>\n    <tr>\n      <th>3</th>\n      <td>1.2.826.0.1.3680043.10001</td>\n      <td>4</td>\n      <td>512</td>\n      <td>512</td>\n      <td>0.625</td>\n      <td>-52.308</td>\n      <td>-27.712</td>\n      <td>5.407</td>\n      <td>0.006572</td>\n      <td>0.022294</td>\n      <td>0.003103</td>\n      <td>0.000975</td>\n      <td>0.001164</td>\n      <td>0.002434</td>\n      <td>0.002715</td>\n    </tr>\n    <tr>\n      <th>4</th>\n      <td>1.2.826.0.1.3680043.10001</td>\n      <td>5</td>\n      <td>512</td>\n      <td>512</td>\n      <td>0.625</td>\n      <td>-52.308</td>\n      <td>-27.712</td>\n      <td>4.782</td>\n      <td>0.004945</td>\n      <td>0.022388</td>\n      <td>0.003236</td>\n      <td>0.000826</td>\n      <td>0.000662</td>\n      <td>0.002304</td>\n      <td>0.006849</td>\n    </tr>\n  </tbody>\n</table>\n</div>"
     },
     "execution_count": 2,
     "metadata": {},
     "output_type": "execute_result"
    }
   ],
   "source": [
    "vertebrae_df = pd.read_csv('../input/rsna-2022-spine-fracture-detection-metadata/train_segmented.csv')\n",
    "print(vertebrae_df.__len__())\n",
    "vertebrae_df.head()"
   ]
  },
  {
   "cell_type": "markdown",
   "source": [
    "预测所有切片的骨折情况"
   ],
   "metadata": {
    "collapsed": false
   }
  },
  {
   "cell_type": "code",
   "source": [
    "def load_dicom(path):\n",
    "    \"\"\"\n",
    "    This supports loading both regular and compressed JPEG images.\n",
    "    See the first sell with `pip install` commands for the necessary dependencies\n",
    "    \"\"\"\n",
    "    img=dicom.dcmread(path)\n",
    "    img.PhotometricInterpretation = 'YBR_FULL'\n",
    "    data = img.pixel_array\n",
    "    data = data - np.min(data)\n",
    "    if np.max(data) != 0:\n",
    "        data = data / np.max(data)\n",
    "    data=(data * 255).astype(np.float32)\n",
    "    data = cv2.cvtColor(data, cv2.COLOR_GRAY2RGB)\n",
    "    return data, img\n",
    "\n",
    "class FracCLSDataset(Dataset):\n",
    "    def __init__(self, img_path, transform=None):\n",
    "\n",
    "        self.img_path = img_path\n",
    "        if transform is not None:\n",
    "            self.transform = transform\n",
    "        else:\n",
    "            self.transform = None\n",
    "\n",
    "    def __getitem__(self, index):\n",
    "\n",
    "        img = load_dicom(self.img_path[index])[0]\n",
    "        # img = img.astype(np.float32)\n",
    "        # img = np.transpose(img, (2, 0, 1))\n",
    "\n",
    "        if self.transform is not None:\n",
    "            img = self.transform(image=img)['image']\n",
    "        return img\n",
    "\n",
    "    def __len__(self):\n",
    "        return len(self.img_path)\n",
    "\n",
    "def predict_frac(test_loader, model):\n",
    "    model.eval()\n",
    "    s = nn.Sigmoid()\n",
    "\n",
    "    test_pred = []\n",
    "    with torch.no_grad():\n",
    "        # end = time.time()\n",
    "        for i, (input) in enumerate(tqdm(test_loader)):\n",
    "            input = input.cuda()\n",
    "\n",
    "            # compute output\n",
    "            output = model(input)\n",
    "            test_pred.append(s(output.data.cpu()).detach().numpy())\n",
    "\n",
    "    return np.vstack(test_pred)"
   ],
   "metadata": {
    "collapsed": false,
    "pycharm": {
     "name": "#%%\n"
    }
   },
   "execution_count": 8,
   "outputs": []
  },
  {
   "cell_type": "code",
   "execution_count": 4,
   "outputs": [
    {
     "name": "stdout",
     "output_type": "stream",
     "text": [
      "['../input/rsna-2022-cervical-spine-fracture-detection/train_images/1.2.826.0.1.3680043.10051\\\\1.dcm', '../input/rsna-2022-cervical-spine-fracture-detection/train_images/1.2.826.0.1.3680043.10051\\\\10.dcm', '../input/rsna-2022-cervical-spine-fracture-detection/train_images/1.2.826.0.1.3680043.10051\\\\100.dcm', '../input/rsna-2022-cervical-spine-fracture-detection/train_images/1.2.826.0.1.3680043.10051\\\\101.dcm', '../input/rsna-2022-cervical-spine-fracture-detection/train_images/1.2.826.0.1.3680043.10051\\\\102.dcm', '../input/rsna-2022-cervical-spine-fracture-detection/train_images/1.2.826.0.1.3680043.10051\\\\103.dcm', '../input/rsna-2022-cervical-spine-fracture-detection/train_images/1.2.826.0.1.3680043.10051\\\\104.dcm', '../input/rsna-2022-cervical-spine-fracture-detection/train_images/1.2.826.0.1.3680043.10051\\\\105.dcm', '../input/rsna-2022-cervical-spine-fracture-detection/train_images/1.2.826.0.1.3680043.10051\\\\106.dcm', '../input/rsna-2022-cervical-spine-fracture-detection/train_images/1.2.826.0.1.3680043.10051\\\\107.dcm']\n"
     ]
    }
   ],
   "source": [
    "paths = glob('../input/rsna-2022-cervical-spine-fracture-detection/train_images/1.2.826.0.1.3680043.10051/*')\n",
    "print(paths[:10])\n",
    "df = pd.DataFrame(paths,columns=['path'])"
   ],
   "metadata": {
    "collapsed": false,
    "pycharm": {
     "name": "#%%\n"
    }
   }
  },
  {
   "cell_type": "code",
   "execution_count": 5,
   "outputs": [
    {
     "data": {
      "text/plain": "272"
     },
     "execution_count": 5,
     "metadata": {},
     "output_type": "execute_result"
    }
   ],
   "source": [
    "df.__len__()"
   ],
   "metadata": {
    "collapsed": false,
    "pycharm": {
     "name": "#%%\n"
    }
   }
  },
  {
   "cell_type": "code",
   "execution_count": 9,
   "outputs": [
    {
     "data": {
      "text/plain": "  0%|          | 0/34 [00:00<?, ?it/s]",
      "application/vnd.jupyter.widget-view+json": {
       "version_major": 2,
       "version_minor": 0,
       "model_id": "cf8a30f4873642269684416e4866ec2a"
      }
     },
     "metadata": {},
     "output_type": "display_data"
    }
   ],
   "source": [
    "model = torch.jit.load(r'W:\\PycharmProjects\\kaggle-RSNA\\output\\ckpt-CLS\\p2_resnext_384_acc0.9839.pth')\n",
    "model = model.to('cuda')\n",
    "test_loader = torch.utils.data.DataLoader(\n",
    "    FracCLSDataset(df['path'].values,\n",
    "                  A.Compose([\n",
    "                      A.Resize(height=384, width=384),\n",
    "                      # A.CenterCrop(512,512),\n",
    "                      # A.Normalize(mean=(0.485, 0.456, 0.406), std=(0.229, 0.224, 0.225)),\n",
    "                      ToTensorV2(),\n",
    "                      ])\n",
    "                  ), batch_size=8, shuffle=False, num_workers=0, pin_memory=False\n",
    ")\n",
    "pred = predict_frac(test_loader,model)\n"
   ],
   "metadata": {
    "collapsed": false,
    "pycharm": {
     "name": "#%%\n"
    }
   }
  },
  {
   "cell_type": "code",
   "execution_count": 10,
   "outputs": [
    {
     "data": {
      "text/plain": "[<matplotlib.lines.Line2D at 0x1f08b253fa0>]"
     },
     "execution_count": 10,
     "metadata": {},
     "output_type": "execute_result"
    },
    {
     "data": {
      "text/plain": "<Figure size 1440x360 with 1 Axes>",
      "image/png": "[encoded data removed]"
     },
     "metadata": {
      "needs_background": "light"
     },
     "output_type": "display_data"
    }
   ],
   "source": [
    "import matplotlib.pyplot as plt\n",
    "\n",
    "np.set_printoptions(suppress=True)\n",
    "plt.figure(figsize=(20, 5))\n",
    "plt.plot(pred[:,0])"
   ],
   "metadata": {
    "collapsed": false,
    "pycharm": {
     "name": "#%%\n"
    }
   }
  }
 ],
 "metadata": {
  "kernelspec": {
   "display_name": "Python 3",
   "language": "python",
   "name": "python3"
  },
  "language_info": {
   "codemirror_mode": {
    "name": "ipython",
    "version": 2
   },
   "file_extension": ".py",
   "mimetype": "text/x-python",
   "name": "python",
   "nbconvert_exporter": "python",
   "pygments_lexer": "ipython2",
   "version": "2.7.6"
  }
 },
 "nbformat": 4,
 "nbformat_minor": 0
}