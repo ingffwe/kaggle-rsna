{
 "cells": [
  {
   "cell_type": "code",
   "execution_count": 1,
   "metadata": {
    "collapsed": true
   },
   "outputs": [],
   "source": [
    "import pandas as pd\n",
    "import pylibjpeg\n",
    "import numpy as np\n",
    "import pandas as pd\n",
    "import matplotlib.pyplot as plt\n",
    "%matplotlib inline\n",
    "import matplotlib.patches as patches\n",
    "import seaborn as sns\n",
    "sns.set(style='darkgrid', font_scale=1.6)\n",
    "import cv2\n",
    "import os\n",
    "from os import listdir\n",
    "import re\n",
    "import gc\n",
    "import random\n",
    "import pydicom\n",
    "from pydicom.pixel_data_handlers.util import apply_voi_lut\n",
    "from tqdm.auto import tqdm\n",
    "from pprint import pprint\n",
    "from time import time\n",
    "import itertools\n",
    "from skimage import measure\n",
    "from mpl_toolkits.mplot3d.art3d import Poly3DCollection\n",
    "import nibabel as nib\n",
    "from glob import glob\n",
    "import warnings\n",
    "#warnings.filterwarnings(\"ignore\", category=DeprecationWarning)\n",
    "#warnings.filterwarnings(\"ignore\", category=UserWarning)\n",
    "#warnings.filterwarnings(\"ignore\", category=FutureWarning)\n",
    "import zipfile\n",
    "from scipy import ndimage\n",
    "from sklearn.model_selection import train_test_split\n",
    "from joblib import Parallel, delayed\n",
    "from PIL import Image\n",
    "from dipy.denoise.nlmeans import nlmeans\n",
    "from dipy.denoise.noise_estimate import estimate_sigma\n",
    "from kaggle_volclassif.utils import interpolate_volume\n",
    "from skimage import exposure\n",
    "\n",
    "# Pytorch\n",
    "import torch\n",
    "import torch.nn as nn\n",
    "import torch.optim as optim\n",
    "import torch.optim.lr_scheduler as lr_scheduler\n",
    "from torch.utils.data import Dataset, DataLoader\n",
    "import torchvision.transforms as transforms\n",
    "import torch.nn.functional as F"
   ]
  },
  {
   "cell_type": "code",
   "execution_count": 2,
   "outputs": [
    {
     "data": {
      "text/plain": "                 StudyInstanceUID  Slice  ImageHeight  ImageWidth  \\\n0       1.2.826.0.1.3680043.10001      1          512         512   \n1       1.2.826.0.1.3680043.10001      2          512         512   \n2       1.2.826.0.1.3680043.10001      3          512         512   \n3       1.2.826.0.1.3680043.10001      4          512         512   \n4       1.2.826.0.1.3680043.10001      5          512         512   \n...                           ...    ...          ...         ...   \n711596   1.2.826.0.1.3680043.9997    251          512         512   \n711597   1.2.826.0.1.3680043.9997    252          512         512   \n711598   1.2.826.0.1.3680043.9997    253          512         512   \n711599   1.2.826.0.1.3680043.9997    254          512         512   \n711600   1.2.826.0.1.3680043.9997    255          512         512   \n\n        SliceThickness  ImagePositionPatient_x  ImagePositionPatient_y  \\\n0                0.625                 -52.308                 -27.712   \n1                0.625                 -52.308                 -27.712   \n2                0.625                 -52.308                 -27.712   \n3                0.625                 -52.308                 -27.712   \n4                0.625                 -52.308                 -27.712   \n...                ...                     ...                     ...   \n711596           0.625                 -55.200                 -24.600   \n711597           0.625                 -55.200                 -24.600   \n711598           0.625                 -55.200                 -24.600   \n711599           0.625                 -55.200                 -24.600   \n711600           0.625                 -55.200                 -24.600   \n\n        ImagePositionPatient_z        C1        C2        C3        C4  \\\n0                        7.282  0.005208  0.015055  0.003290  0.000895   \n1                        6.657  0.005675  0.015945  0.002117  0.000562   \n2                        6.032  0.006624  0.030292  0.003079  0.000677   \n3                        5.407  0.006572  0.022294  0.003103  0.000975   \n4                        4.782  0.004945  0.022388  0.003236  0.000826   \n...                        ...       ...       ...       ...       ...   \n711596                -187.750  0.000894  0.000706  0.000682  0.000664   \n711597                -188.375  0.000849  0.000754  0.000835  0.000745   \n711598                -189.000  0.000715  0.000750  0.000688  0.000460   \n711599                -189.625  0.000820  0.001236  0.001794  0.001262   \n711600                -190.250  0.000682  0.001007  0.001019  0.000533   \n\n              C5        C6        C7  \n0       0.001614  0.004632  0.002570  \n1       0.001265  0.005648  0.004136  \n2       0.000882  0.002238  0.002877  \n3       0.001164  0.002434  0.002715  \n4       0.000662  0.002304  0.006849  \n...          ...       ...       ...  \n711596  0.000701  0.000529  0.000845  \n711597  0.000791  0.000630  0.000547  \n711598  0.000554  0.000774  0.000704  \n711599  0.001232  0.001555  0.000754  \n711600  0.000712  0.000901  0.000755  \n\n[711601 rows x 15 columns]",
      "text/html": "<div>\n<style scoped>\n    .dataframe tbody tr th:only-of-type {\n        vertical-align: middle;\n    }\n\n    .dataframe tbody tr th {\n        vertical-align: top;\n    }\n\n    .dataframe thead th {\n        text-align: right;\n    }\n</style>\n<table border=\"1\" class=\"dataframe\">\n  <thead>\n    <tr style=\"text-align: right;\">\n      <th></th>\n      <th>StudyInstanceUID</th>\n      <th>Slice</th>\n      <th>ImageHeight</th>\n      <th>ImageWidth</th>\n      <th>SliceThickness</th>\n      <th>ImagePositionPatient_x</th>\n      <th>ImagePositionPatient_y</th>\n      <th>ImagePositionPatient_z</th>\n      <th>C1</th>\n      <th>C2</th>\n      <th>C3</th>\n      <th>C4</th>\n      <th>C5</th>\n      <th>C6</th>\n      <th>C7</th>\n    </tr>\n  </thead>\n  <tbody>\n    <tr>\n      <th>0</th>\n      <td>1.2.826.0.1.3680043.10001</td>\n      <td>1</td>\n      <td>512</td>\n      <td>512</td>\n      <td>0.625</td>\n      <td>-52.308</td>\n      <td>-27.712</td>\n      <td>7.282</td>\n      <td>0.005208</td>\n      <td>0.015055</td>\n      <td>0.003290</td>\n      <td>0.000895</td>\n      <td>0.001614</td>\n      <td>0.004632</td>\n      <td>0.002570</td>\n    </tr>\n    <tr>\n      <th>1</th>\n      <td>1.2.826.0.1.3680043.10001</td>\n      <td>2</td>\n      <td>512</td>\n      <td>512</td>\n      <td>0.625</td>\n      <td>-52.308</td>\n      <td>-27.712</td>\n      <td>6.657</td>\n      <td>0.005675</td>\n      <td>0.015945</td>\n      <td>0.002117</td>\n      <td>0.000562</td>\n      <td>0.001265</td>\n      <td>0.005648</td>\n      <td>0.004136</td>\n    </tr>\n    <tr>\n      <th>2</th>\n      <td>1.2.826.0.1.3680043.10001</td>\n      <td>3</td>\n      <td>512</td>\n      <td>512</td>\n      <td>0.625</td>\n      <td>-52.308</td>\n      <td>-27.712</td>\n      <td>6.032</td>\n      <td>0.006624</td>\n      <td>0.030292</td>\n      <td>0.003079</td>\n      <td>0.000677</td>\n      <td>0.000882</td>\n      <td>0.002238</td>\n      <td>0.002877</td>\n    </tr>\n    <tr>\n      <th>3</th>\n      <td>1.2.826.0.1.3680043.10001</td>\n      <td>4</td>\n      <td>512</td>\n      <td>512</td>\n      <td>0.625</td>\n      <td>-52.308</td>\n      <td>-27.712</td>\n      <td>5.407</td>\n      <td>0.006572</td>\n      <td>0.022294</td>\n      <td>0.003103</td>\n      <td>0.000975</td>\n      <td>0.001164</td>\n      <td>0.002434</td>\n      <td>0.002715</td>\n    </tr>\n    <tr>\n      <th>4</th>\n      <td>1.2.826.0.1.3680043.10001</td>\n      <td>5</td>\n      <td>512</td>\n      <td>512</td>\n      <td>0.625</td>\n      <td>-52.308</td>\n      <td>-27.712</td>\n      <td>4.782</td>\n      <td>0.004945</td>\n      <td>0.022388</td>\n      <td>0.003236</td>\n      <td>0.000826</td>\n      <td>0.000662</td>\n      <td>0.002304</td>\n      <td>0.006849</td>\n    </tr>\n    <tr>\n      <th>...</th>\n      <td>...</td>\n      <td>...</td>\n      <td>...</td>\n      <td>...</td>\n      <td>...</td>\n      <td>...</td>\n      <td>...</td>\n      <td>...</td>\n      <td>...</td>\n      <td>...</td>\n      <td>...</td>\n      <td>...</td>\n      <td>...</td>\n      <td>...</td>\n      <td>...</td>\n    </tr>\n    <tr>\n      <th>711596</th>\n      <td>1.2.826.0.1.3680043.9997</td>\n      <td>251</td>\n      <td>512</td>\n      <td>512</td>\n      <td>0.625</td>\n      <td>-55.200</td>\n      <td>-24.600</td>\n      <td>-187.750</td>\n      <td>0.000894</td>\n      <td>0.000706</td>\n      <td>0.000682</td>\n      <td>0.000664</td>\n      <td>0.000701</td>\n      <td>0.000529</td>\n      <td>0.000845</td>\n    </tr>\n    <tr>\n      <th>711597</th>\n      <td>1.2.826.0.1.3680043.9997</td>\n      <td>252</td>\n      <td>512</td>\n      <td>512</td>\n      <td>0.625</td>\n      <td>-55.200</td>\n      <td>-24.600</td>\n      <td>-188.375</td>\n      <td>0.000849</td>\n      <td>0.000754</td>\n      <td>0.000835</td>\n      <td>0.000745</td>\n      <td>0.000791</td>\n      <td>0.000630</td>\n      <td>0.000547</td>\n    </tr>\n    <tr>\n      <th>711598</th>\n      <td>1.2.826.0.1.3680043.9997</td>\n      <td>253</td>\n      <td>512</td>\n      <td>512</td>\n      <td>0.625</td>\n      <td>-55.200</td>\n      <td>-24.600</td>\n      <td>-189.000</td>\n      <td>0.000715</td>\n      <td>0.000750</td>\n      <td>0.000688</td>\n      <td>0.000460</td>\n      <td>0.000554</td>\n      <td>0.000774</td>\n      <td>0.000704</td>\n    </tr>\n    <tr>\n      <th>711599</th>\n      <td>1.2.826.0.1.3680043.9997</td>\n      <td>254</td>\n      <td>512</td>\n      <td>512</td>\n      <td>0.625</td>\n      <td>-55.200</td>\n      <td>-24.600</td>\n      <td>-189.625</td>\n      <td>0.000820</td>\n      <td>0.001236</td>\n      <td>0.001794</td>\n      <td>0.001262</td>\n      <td>0.001232</td>\n      <td>0.001555</td>\n      <td>0.000754</td>\n    </tr>\n    <tr>\n      <th>711600</th>\n      <td>1.2.826.0.1.3680043.9997</td>\n      <td>255</td>\n      <td>512</td>\n      <td>512</td>\n      <td>0.625</td>\n      <td>-55.200</td>\n      <td>-24.600</td>\n      <td>-190.250</td>\n      <td>0.000682</td>\n      <td>0.001007</td>\n      <td>0.001019</td>\n      <td>0.000533</td>\n      <td>0.000712</td>\n      <td>0.000901</td>\n      <td>0.000755</td>\n    </tr>\n  </tbody>\n</table>\n<p>711601 rows × 15 columns</p>\n</div>"
     },
     "execution_count": 2,
     "metadata": {},
     "output_type": "execute_result"
    }
   ],
   "source": [
    "df_test_pred = pd.read_csv('../input/rsna-2022-spine-fracture-detection-metadata/train_segmented.csv')\n",
    "df_test_pred"
   ],
   "metadata": {
    "collapsed": false,
    "pycharm": {
     "name": "#%%\n"
    }
   }
  }
 ],
 "metadata": {
  "kernelspec": {
   "display_name": "Python 3",
   "language": "python",
   "name": "python3"
  },
  "language_info": {
   "codemirror_mode": {
    "name": "ipython",
    "version": 2
   },
   "file_extension": ".py",
   "mimetype": "text/x-python",
   "name": "python",
   "nbconvert_exporter": "python",
   "pygments_lexer": "ipython2",
   "version": "2.7.6"
  }
 },
 "nbformat": 4,
 "nbformat_minor": 0
}