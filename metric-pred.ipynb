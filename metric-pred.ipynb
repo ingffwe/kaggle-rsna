{
 "cells": [
  {
   "cell_type": "code",
   "execution_count": 312,
   "metadata": {},
   "outputs": [
    {
     "data": {
      "text/plain": "            StudyInstanceUID  Slice  ImageHeight  ImageWidth  SliceThickness  \\\n0  1.2.826.0.1.3680043.10032      1          512         512           0.625   \n1  1.2.826.0.1.3680043.10032      2          512         512           0.625   \n2  1.2.826.0.1.3680043.10032      3          512         512           0.625   \n3  1.2.826.0.1.3680043.10032      4          512         512           0.625   \n4  1.2.826.0.1.3680043.10032      5          512         512           0.625   \n\n   ImagePositionPatient_x  ImagePositionPatient_y  ImagePositionPatient_z  C1  \\\n0                   -82.0                  11.712                  37.166   0   \n1                   -82.0                  11.712                  36.541   0   \n2                   -82.0                  11.712                  35.916   0   \n3                   -82.0                  11.712                  35.291   0   \n4                   -82.0                  11.712                  34.666   0   \n\n   C2  ...  C5_effnet_frac  C6_effnet_frac  C7_effnet_frac  C1_effnet_vert  \\\n0   0  ...        0.000693        0.000422        0.000429        0.001040   \n1   0  ...        0.000600        0.000361        0.000354        0.000922   \n2   0  ...        0.000624        0.000379        0.000424        0.000915   \n3   0  ...        0.000638        0.000382        0.000439        0.001129   \n4   0  ...        0.000707        0.000386        0.000494        0.000925   \n\n   C2_effnet_vert  C3_effnet_vert  C4_effnet_vert  C5_effnet_vert  \\\n0        0.001831        0.003172        0.007347        0.001095   \n1        0.001411        0.002350        0.005200        0.000752   \n2        0.001315        0.002192        0.004757        0.000789   \n3        0.002209        0.002834        0.005120        0.000680   \n4        0.001265        0.002405        0.005688        0.000738   \n\n   C6_effnet_vert  C7_effnet_vert  \n0        0.000229        0.000194  \n1        0.000163        0.000147  \n2        0.000190        0.000194  \n3        0.000173        0.000203  \n4        0.000155        0.000220  \n\n[5 rows x 38 columns]",
      "text/html": "<div>\n<style scoped>\n    .dataframe tbody tr th:only-of-type {\n        vertical-align: middle;\n    }\n\n    .dataframe tbody tr th {\n        vertical-align: top;\n    }\n\n    .dataframe thead th {\n        text-align: right;\n    }\n</style>\n<table border=\"1\" class=\"dataframe\">\n  <thead>\n    <tr style=\"text-align: right;\">\n      <th></th>\n      <th>StudyInstanceUID</th>\n      <th>Slice</th>\n      <th>ImageHeight</th>\n      <th>ImageWidth</th>\n      <th>SliceThickness</th>\n      <th>ImagePositionPatient_x</th>\n      <th>ImagePositionPatient_y</th>\n      <th>ImagePositionPatient_z</th>\n      <th>C1</th>\n      <th>C2</th>\n      <th>...</th>\n      <th>C5_effnet_frac</th>\n      <th>C6_effnet_frac</th>\n      <th>C7_effnet_frac</th>\n      <th>C1_effnet_vert</th>\n      <th>C2_effnet_vert</th>\n      <th>C3_effnet_vert</th>\n      <th>C4_effnet_vert</th>\n      <th>C5_effnet_vert</th>\n      <th>C6_effnet_vert</th>\n      <th>C7_effnet_vert</th>\n    </tr>\n  </thead>\n  <tbody>\n    <tr>\n      <th>0</th>\n      <td>1.2.826.0.1.3680043.10032</td>\n      <td>1</td>\n      <td>512</td>\n      <td>512</td>\n      <td>0.625</td>\n      <td>-82.0</td>\n      <td>11.712</td>\n      <td>37.166</td>\n      <td>0</td>\n      <td>0</td>\n      <td>...</td>\n      <td>0.000693</td>\n      <td>0.000422</td>\n      <td>0.000429</td>\n      <td>0.001040</td>\n      <td>0.001831</td>\n      <td>0.003172</td>\n      <td>0.007347</td>\n      <td>0.001095</td>\n      <td>0.000229</td>\n      <td>0.000194</td>\n    </tr>\n    <tr>\n      <th>1</th>\n      <td>1.2.826.0.1.3680043.10032</td>\n      <td>2</td>\n      <td>512</td>\n      <td>512</td>\n      <td>0.625</td>\n      <td>-82.0</td>\n      <td>11.712</td>\n      <td>36.541</td>\n      <td>0</td>\n      <td>0</td>\n      <td>...</td>\n      <td>0.000600</td>\n      <td>0.000361</td>\n      <td>0.000354</td>\n      <td>0.000922</td>\n      <td>0.001411</td>\n      <td>0.002350</td>\n      <td>0.005200</td>\n      <td>0.000752</td>\n      <td>0.000163</td>\n      <td>0.000147</td>\n    </tr>\n    <tr>\n      <th>2</th>\n      <td>1.2.826.0.1.3680043.10032</td>\n      <td>3</td>\n      <td>512</td>\n      <td>512</td>\n      <td>0.625</td>\n      <td>-82.0</td>\n      <td>11.712</td>\n      <td>35.916</td>\n      <td>0</td>\n      <td>0</td>\n      <td>...</td>\n      <td>0.000624</td>\n      <td>0.000379</td>\n      <td>0.000424</td>\n      <td>0.000915</td>\n      <td>0.001315</td>\n      <td>0.002192</td>\n      <td>0.004757</td>\n      <td>0.000789</td>\n      <td>0.000190</td>\n      <td>0.000194</td>\n    </tr>\n    <tr>\n      <th>3</th>\n      <td>1.2.826.0.1.3680043.10032</td>\n      <td>4</td>\n      <td>512</td>\n      <td>512</td>\n      <td>0.625</td>\n      <td>-82.0</td>\n      <td>11.712</td>\n      <td>35.291</td>\n      <td>0</td>\n      <td>0</td>\n      <td>...</td>\n      <td>0.000638</td>\n      <td>0.000382</td>\n      <td>0.000439</td>\n      <td>0.001129</td>\n      <td>0.002209</td>\n      <td>0.002834</td>\n      <td>0.005120</td>\n      <td>0.000680</td>\n      <td>0.000173</td>\n      <td>0.000203</td>\n    </tr>\n    <tr>\n      <th>4</th>\n      <td>1.2.826.0.1.3680043.10032</td>\n      <td>5</td>\n      <td>512</td>\n      <td>512</td>\n      <td>0.625</td>\n      <td>-82.0</td>\n      <td>11.712</td>\n      <td>34.666</td>\n      <td>0</td>\n      <td>0</td>\n      <td>...</td>\n      <td>0.000707</td>\n      <td>0.000386</td>\n      <td>0.000494</td>\n      <td>0.000925</td>\n      <td>0.001265</td>\n      <td>0.002405</td>\n      <td>0.005688</td>\n      <td>0.000738</td>\n      <td>0.000155</td>\n      <td>0.000220</td>\n    </tr>\n  </tbody>\n</table>\n<p>5 rows × 38 columns</p>\n</div>"
     },
     "execution_count": 312,
     "metadata": {},
     "output_type": "execute_result"
    }
   ],
   "source": [
    "import numpy as np\n",
    "import pandas as pd\n",
    "import torch\n",
    "from tqdm.notebook import tqdm\n",
    "\n",
    "df_pred = pd.read_csv(r'W:\\PycharmProjects\\kaggle-RSNA\\input\\train_predictions.csv')\n",
    "df_pred.head()"
   ]
  },
  {
   "cell_type": "code",
   "execution_count": 313,
   "outputs": [
    {
     "data": {
      "text/plain": "            StudyInstanceUID  patient_overall  C1  C2  C3  C4  C5  C6  C7\n0   1.2.826.0.1.3680043.6200                1   1   1   0   0   0   0   0\n1  1.2.826.0.1.3680043.27262                1   0   1   0   0   0   0   0\n2  1.2.826.0.1.3680043.21561                1   0   1   0   0   0   0   0",
      "text/html": "<div>\n<style scoped>\n    .dataframe tbody tr th:only-of-type {\n        vertical-align: middle;\n    }\n\n    .dataframe tbody tr th {\n        vertical-align: top;\n    }\n\n    .dataframe thead th {\n        text-align: right;\n    }\n</style>\n<table border=\"1\" class=\"dataframe\">\n  <thead>\n    <tr style=\"text-align: right;\">\n      <th></th>\n      <th>StudyInstanceUID</th>\n      <th>patient_overall</th>\n      <th>C1</th>\n      <th>C2</th>\n      <th>C3</th>\n      <th>C4</th>\n      <th>C5</th>\n      <th>C6</th>\n      <th>C7</th>\n    </tr>\n  </thead>\n  <tbody>\n    <tr>\n      <th>0</th>\n      <td>1.2.826.0.1.3680043.6200</td>\n      <td>1</td>\n      <td>1</td>\n      <td>1</td>\n      <td>0</td>\n      <td>0</td>\n      <td>0</td>\n      <td>0</td>\n      <td>0</td>\n    </tr>\n    <tr>\n      <th>1</th>\n      <td>1.2.826.0.1.3680043.27262</td>\n      <td>1</td>\n      <td>0</td>\n      <td>1</td>\n      <td>0</td>\n      <td>0</td>\n      <td>0</td>\n      <td>0</td>\n      <td>0</td>\n    </tr>\n    <tr>\n      <th>2</th>\n      <td>1.2.826.0.1.3680043.21561</td>\n      <td>1</td>\n      <td>0</td>\n      <td>1</td>\n      <td>0</td>\n      <td>0</td>\n      <td>0</td>\n      <td>0</td>\n      <td>0</td>\n    </tr>\n  </tbody>\n</table>\n</div>"
     },
     "execution_count": 313,
     "metadata": {},
     "output_type": "execute_result"
    }
   ],
   "source": [
    "df_y = pd.read_csv(f'../input/rsna-2022-cervical-spine-fracture-detection/train.csv')\n",
    "df_y = df_y.query('StudyInstanceUID != \"1.2.826.0.1.3680043.20574\"').reset_index(drop=True)\n",
    "df_y = df_y[1400:]\n",
    "id_lst = df_y['StudyInstanceUID']\n",
    "df_y.head(3)"
   ],
   "metadata": {
    "collapsed": false,
    "pycharm": {
     "name": "#%%\n"
    }
   }
  },
  {
   "cell_type": "code",
   "execution_count": 314,
   "outputs": [
    {
     "data": {
      "text/plain": "                 StudyInstanceUID  Slice  ImageHeight  ImageWidth  \\\n0       1.2.826.0.1.3680043.10032      1          512         512   \n1       1.2.826.0.1.3680043.10032      2          512         512   \n2       1.2.826.0.1.3680043.10032      3          512         512   \n3       1.2.826.0.1.3680043.10032      4          512         512   \n4       1.2.826.0.1.3680043.10032      5          512         512   \n...                           ...    ...          ...         ...   \n711498   1.2.826.0.1.3680043.9994    260          512         512   \n711499   1.2.826.0.1.3680043.9994    261          512         512   \n711500   1.2.826.0.1.3680043.9994    262          512         512   \n711501   1.2.826.0.1.3680043.9994    263          512         512   \n711502   1.2.826.0.1.3680043.9994    264          512         512   \n\n        SliceThickness  ImagePositionPatient_x  ImagePositionPatient_y  \\\n0                0.625                 -82.000                 11.7120   \n1                0.625                 -82.000                 11.7120   \n2                0.625                 -82.000                 11.7120   \n3                0.625                 -82.000                 11.7120   \n4                0.625                 -82.000                 11.7120   \n...                ...                     ...                     ...   \n711498           1.000                -130.412               -119.7876   \n711499           1.000                -130.412               -119.7876   \n711500           1.000                -130.412               -119.7876   \n711501           1.000                -130.412               -119.7876   \n711502           1.000                -130.412               -119.7876   \n\n        ImagePositionPatient_z  C1  C2  ...  C5_effnet_frac  C6_effnet_frac  \\\n0                       37.166   0   0  ...        0.000693        0.000422   \n1                       36.541   0   0  ...        0.000600        0.000361   \n2                       35.916   0   0  ...        0.000624        0.000379   \n3                       35.291   0   0  ...        0.000638        0.000382   \n4                       34.666   0   0  ...        0.000707        0.000386   \n...                        ...  ..  ..  ...             ...             ...   \n711498                -690.700   0   0  ...        0.000709        0.000575   \n711499                -691.500   0   0  ...        0.000631        0.000542   \n711500                -692.300   0   0  ...        0.000735        0.000677   \n711501                -693.100   0   0  ...        0.000911        0.000770   \n711502                -693.900   0   0  ...        0.000826        0.000699   \n\n        C7_effnet_frac  C1_effnet_vert  C2_effnet_vert  C3_effnet_vert  \\\n0             0.000429        0.001040        0.001831        0.003172   \n1             0.000354        0.000922        0.001411        0.002350   \n2             0.000424        0.000915        0.001315        0.002192   \n3             0.000439        0.001129        0.002209        0.002834   \n4             0.000494        0.000925        0.001265        0.002405   \n...                ...             ...             ...             ...   \n711498        0.002502        0.001341        0.000577        0.000918   \n711499        0.002846        0.000752        0.000553        0.001124   \n711500        0.004280        0.000548        0.000315        0.001044   \n711501        0.004383        0.000577        0.000278        0.001192   \n711502        0.002580        0.000414        0.000276        0.001048   \n\n        C4_effnet_vert  C5_effnet_vert  C6_effnet_vert  C7_effnet_vert  \n0             0.007347        0.001095        0.000229        0.000194  \n1             0.005200        0.000752        0.000163        0.000147  \n2             0.004757        0.000789        0.000190        0.000194  \n3             0.005120        0.000680        0.000173        0.000203  \n4             0.005688        0.000738        0.000155        0.000220  \n...                ...             ...             ...             ...  \n711498        0.000582        0.000162        0.000181        0.000951  \n711499        0.000634        0.000145        0.000185        0.001394  \n711500        0.000856        0.000190        0.000259        0.002672  \n711501        0.001138        0.000257        0.000285        0.002571  \n711502        0.000974        0.000276        0.000274        0.001192  \n\n[711503 rows x 38 columns]",
      "text/html": "<div>\n<style scoped>\n    .dataframe tbody tr th:only-of-type {\n        vertical-align: middle;\n    }\n\n    .dataframe tbody tr th {\n        vertical-align: top;\n    }\n\n    .dataframe thead th {\n        text-align: right;\n    }\n</style>\n<table border=\"1\" class=\"dataframe\">\n  <thead>\n    <tr style=\"text-align: right;\">\n      <th></th>\n      <th>StudyInstanceUID</th>\n      <th>Slice</th>\n      <th>ImageHeight</th>\n      <th>ImageWidth</th>\n      <th>SliceThickness</th>\n      <th>ImagePositionPatient_x</th>\n      <th>ImagePositionPatient_y</th>\n      <th>ImagePositionPatient_z</th>\n      <th>C1</th>\n      <th>C2</th>\n      <th>...</th>\n      <th>C5_effnet_frac</th>\n      <th>C6_effnet_frac</th>\n      <th>C7_effnet_frac</th>\n      <th>C1_effnet_vert</th>\n      <th>C2_effnet_vert</th>\n      <th>C3_effnet_vert</th>\n      <th>C4_effnet_vert</th>\n      <th>C5_effnet_vert</th>\n      <th>C6_effnet_vert</th>\n      <th>C7_effnet_vert</th>\n    </tr>\n  </thead>\n  <tbody>\n    <tr>\n      <th>0</th>\n      <td>1.2.826.0.1.3680043.10032</td>\n      <td>1</td>\n      <td>512</td>\n      <td>512</td>\n      <td>0.625</td>\n      <td>-82.000</td>\n      <td>11.7120</td>\n      <td>37.166</td>\n      <td>0</td>\n      <td>0</td>\n      <td>...</td>\n      <td>0.000693</td>\n      <td>0.000422</td>\n      <td>0.000429</td>\n      <td>0.001040</td>\n      <td>0.001831</td>\n      <td>0.003172</td>\n      <td>0.007347</td>\n      <td>0.001095</td>\n      <td>0.000229</td>\n      <td>0.000194</td>\n    </tr>\n    <tr>\n      <th>1</th>\n      <td>1.2.826.0.1.3680043.10032</td>\n      <td>2</td>\n      <td>512</td>\n      <td>512</td>\n      <td>0.625</td>\n      <td>-82.000</td>\n      <td>11.7120</td>\n      <td>36.541</td>\n      <td>0</td>\n      <td>0</td>\n      <td>...</td>\n      <td>0.000600</td>\n      <td>0.000361</td>\n      <td>0.000354</td>\n      <td>0.000922</td>\n      <td>0.001411</td>\n      <td>0.002350</td>\n      <td>0.005200</td>\n      <td>0.000752</td>\n      <td>0.000163</td>\n      <td>0.000147</td>\n    </tr>\n    <tr>\n      <th>2</th>\n      <td>1.2.826.0.1.3680043.10032</td>\n      <td>3</td>\n      <td>512</td>\n      <td>512</td>\n      <td>0.625</td>\n      <td>-82.000</td>\n      <td>11.7120</td>\n      <td>35.916</td>\n      <td>0</td>\n      <td>0</td>\n      <td>...</td>\n      <td>0.000624</td>\n      <td>0.000379</td>\n      <td>0.000424</td>\n      <td>0.000915</td>\n      <td>0.001315</td>\n      <td>0.002192</td>\n      <td>0.004757</td>\n      <td>0.000789</td>\n      <td>0.000190</td>\n      <td>0.000194</td>\n    </tr>\n    <tr>\n      <th>3</th>\n      <td>1.2.826.0.1.3680043.10032</td>\n      <td>4</td>\n      <td>512</td>\n      <td>512</td>\n      <td>0.625</td>\n      <td>-82.000</td>\n      <td>11.7120</td>\n      <td>35.291</td>\n      <td>0</td>\n      <td>0</td>\n      <td>...</td>\n      <td>0.000638</td>\n      <td>0.000382</td>\n      <td>0.000439</td>\n      <td>0.001129</td>\n      <td>0.002209</td>\n      <td>0.002834</td>\n      <td>0.005120</td>\n      <td>0.000680</td>\n      <td>0.000173</td>\n      <td>0.000203</td>\n    </tr>\n    <tr>\n      <th>4</th>\n      <td>1.2.826.0.1.3680043.10032</td>\n      <td>5</td>\n      <td>512</td>\n      <td>512</td>\n      <td>0.625</td>\n      <td>-82.000</td>\n      <td>11.7120</td>\n      <td>34.666</td>\n      <td>0</td>\n      <td>0</td>\n      <td>...</td>\n      <td>0.000707</td>\n      <td>0.000386</td>\n      <td>0.000494</td>\n      <td>0.000925</td>\n      <td>0.001265</td>\n      <td>0.002405</td>\n      <td>0.005688</td>\n      <td>0.000738</td>\n      <td>0.000155</td>\n      <td>0.000220</td>\n    </tr>\n    <tr>\n      <th>...</th>\n      <td>...</td>\n      <td>...</td>\n      <td>...</td>\n      <td>...</td>\n      <td>...</td>\n      <td>...</td>\n      <td>...</td>\n      <td>...</td>\n      <td>...</td>\n      <td>...</td>\n      <td>...</td>\n      <td>...</td>\n      <td>...</td>\n      <td>...</td>\n      <td>...</td>\n      <td>...</td>\n      <td>...</td>\n      <td>...</td>\n      <td>...</td>\n      <td>...</td>\n      <td>...</td>\n    </tr>\n    <tr>\n      <th>711498</th>\n      <td>1.2.826.0.1.3680043.9994</td>\n      <td>260</td>\n      <td>512</td>\n      <td>512</td>\n      <td>1.000</td>\n      <td>-130.412</td>\n      <td>-119.7876</td>\n      <td>-690.700</td>\n      <td>0</td>\n      <td>0</td>\n      <td>...</td>\n      <td>0.000709</td>\n      <td>0.000575</td>\n      <td>0.002502</td>\n      <td>0.001341</td>\n      <td>0.000577</td>\n      <td>0.000918</td>\n      <td>0.000582</td>\n      <td>0.000162</td>\n      <td>0.000181</td>\n      <td>0.000951</td>\n    </tr>\n    <tr>\n      <th>711499</th>\n      <td>1.2.826.0.1.3680043.9994</td>\n      <td>261</td>\n      <td>512</td>\n      <td>512</td>\n      <td>1.000</td>\n      <td>-130.412</td>\n      <td>-119.7876</td>\n      <td>-691.500</td>\n      <td>0</td>\n      <td>0</td>\n      <td>...</td>\n      <td>0.000631</td>\n      <td>0.000542</td>\n      <td>0.002846</td>\n      <td>0.000752</td>\n      <td>0.000553</td>\n      <td>0.001124</td>\n      <td>0.000634</td>\n      <td>0.000145</td>\n      <td>0.000185</td>\n      <td>0.001394</td>\n    </tr>\n    <tr>\n      <th>711500</th>\n      <td>1.2.826.0.1.3680043.9994</td>\n      <td>262</td>\n      <td>512</td>\n      <td>512</td>\n      <td>1.000</td>\n      <td>-130.412</td>\n      <td>-119.7876</td>\n      <td>-692.300</td>\n      <td>0</td>\n      <td>0</td>\n      <td>...</td>\n      <td>0.000735</td>\n      <td>0.000677</td>\n      <td>0.004280</td>\n      <td>0.000548</td>\n      <td>0.000315</td>\n      <td>0.001044</td>\n      <td>0.000856</td>\n      <td>0.000190</td>\n      <td>0.000259</td>\n      <td>0.002672</td>\n    </tr>\n    <tr>\n      <th>711501</th>\n      <td>1.2.826.0.1.3680043.9994</td>\n      <td>263</td>\n      <td>512</td>\n      <td>512</td>\n      <td>1.000</td>\n      <td>-130.412</td>\n      <td>-119.7876</td>\n      <td>-693.100</td>\n      <td>0</td>\n      <td>0</td>\n      <td>...</td>\n      <td>0.000911</td>\n      <td>0.000770</td>\n      <td>0.004383</td>\n      <td>0.000577</td>\n      <td>0.000278</td>\n      <td>0.001192</td>\n      <td>0.001138</td>\n      <td>0.000257</td>\n      <td>0.000285</td>\n      <td>0.002571</td>\n    </tr>\n    <tr>\n      <th>711502</th>\n      <td>1.2.826.0.1.3680043.9994</td>\n      <td>264</td>\n      <td>512</td>\n      <td>512</td>\n      <td>1.000</td>\n      <td>-130.412</td>\n      <td>-119.7876</td>\n      <td>-693.900</td>\n      <td>0</td>\n      <td>0</td>\n      <td>...</td>\n      <td>0.000826</td>\n      <td>0.000699</td>\n      <td>0.002580</td>\n      <td>0.000414</td>\n      <td>0.000276</td>\n      <td>0.001048</td>\n      <td>0.000974</td>\n      <td>0.000276</td>\n      <td>0.000274</td>\n      <td>0.001192</td>\n    </tr>\n  </tbody>\n</table>\n<p>711503 rows × 38 columns</p>\n</div>"
     },
     "execution_count": 314,
     "metadata": {},
     "output_type": "execute_result"
    }
   ],
   "source": [
    "df_pred = df_pred[df_pred[\"StudyInstanceUID\"].isin(id_lst)]\n",
    "df_pred"
   ],
   "metadata": {
    "collapsed": false,
    "pycharm": {
     "name": "#%%\n"
    }
   }
  },
  {
   "cell_type": "code",
   "execution_count": 315,
   "metadata": {},
   "outputs": [],
   "source": [
    "DEVICE = 'cpu'\n"
   ]
  },
  {
   "cell_type": "code",
   "execution_count": 316,
   "metadata": {},
   "outputs": [],
   "source": [
    "target_cols = ['patient_overall'] + [f'C{i}_fracture' for i in range(1, 8)]\n",
    "frac_cols = [f'C{i}_effnet_frac' for i in range(1, 8)]\n",
    "vert_cols = [f'C{i}_effnet_vert' for i in range(1, 8)]\n",
    "def patient_prediction(df):\n",
    "    c1c7 = np.average(df[frac_cols].values, axis=0, weights=df[vert_cols].values)\n",
    "    pred_patient_overall = 1 - np.prod(1 - c1c7)\n",
    "    return np.concatenate([[pred_patient_overall], c1c7])\n",
    "\n",
    "df_patient_pred = df_pred.groupby('StudyInstanceUID').apply(lambda df: patient_prediction(df)).to_frame('pred').join(df_pred.groupby('StudyInstanceUID')[target_cols].mean())"
   ]
  },
  {
   "cell_type": "code",
   "execution_count": 317,
   "metadata": {},
   "outputs": [
    {
     "data": {
      "text/plain": "dtype('float64')"
     },
     "execution_count": 317,
     "metadata": {},
     "output_type": "execute_result"
    }
   ],
   "source": [
    "predictions = np.stack(df_patient_pred.pred.values.tolist())\n",
    "predictions.dtype"
   ]
  },
  {
   "cell_type": "code",
   "execution_count": 318,
   "metadata": {},
   "outputs": [
    {
     "data": {
      "text/plain": "dtype('float64')"
     },
     "execution_count": 318,
     "metadata": {},
     "output_type": "execute_result"
    }
   ],
   "source": [
    "targets = df_patient_pred[target_cols].values\n",
    "targets.dtype"
   ]
  },
  {
   "cell_type": "code",
   "execution_count": 319,
   "metadata": {},
   "outputs": [],
   "source": [
    "def weighted_loss(y_pred_logit, y, reduction='mean', verbose=False):\n",
    "    \"\"\"\n",
    "    Weighted loss\n",
    "    We reuse torch.nn.functional.binary_cross_entropy_with_logits here. pos_weight and weights combined give us necessary coefficients described in https://www.kaggle.com/competitions/rsna-2022-cervical-spine-fracture-detection/discussion/340392\n",
    "\n",
    "    See also this explanation: https://www.kaggle.com/code/samuelcortinhas/rsna-fracture-detection-in-depth-eda/notebook\n",
    "    \"\"\"\n",
    "\n",
    "    neg_weights = (torch.tensor([7., 1, 1, 1, 1, 1, 1, 1]) if y_pred_logit.shape[-1] == 8 else torch.ones(y_pred_logit.shape[-1])).to(DEVICE)\n",
    "    pos_weights = (torch.tensor([14., 2, 2, 2, 2, 2, 2, 2]) if y_pred_logit.shape[-1] == 8 else torch.ones(y_pred_logit.shape[-1]) * 2.).to(DEVICE)\n",
    "\n",
    "    loss = torch.nn.functional.binary_cross_entropy_with_logits(\n",
    "        y_pred_logit,\n",
    "        y,\n",
    "        reduction='none',\n",
    "    )\n",
    "\n",
    "    if verbose:\n",
    "        print('loss', loss)\n",
    "\n",
    "    pos_weights = y * pos_weights.unsqueeze(0)\n",
    "    neg_weights = (1 - y) * neg_weights.unsqueeze(0)\n",
    "    all_weights = pos_weights + neg_weights\n",
    "\n",
    "    if verbose:\n",
    "        print('all weights', all_weights)\n",
    "\n",
    "    loss *= all_weights\n",
    "    if verbose:\n",
    "        print('weighted loss', loss)\n",
    "\n",
    "    norm = torch.sum(all_weights, dim=1).unsqueeze(1)\n",
    "    if verbose:\n",
    "        print('normalization factors', norm)\n",
    "\n",
    "    loss /= norm\n",
    "    if verbose:\n",
    "        print('normalized loss', loss)\n",
    "\n",
    "    loss = torch.sum(loss, dim=1)\n",
    "    if verbose:\n",
    "        print('summed up over patient_overall-C1-C7 loss', loss)\n",
    "\n",
    "    if reduction == 'mean':\n",
    "        return torch.mean(loss)\n",
    "    return loss"
   ]
  },
  {
   "cell_type": "code",
   "execution_count": 320,
   "metadata": {},
   "outputs": [
    {
     "name": "stdout",
     "output_type": "stream",
     "text": [
      "CV score: tensor(0.4955)\n"
     ]
    }
   ],
   "source": [
    "DEVICE = 'cpu'\n",
    "print('CV score:', weighted_loss(torch.logit(torch.as_tensor(predictions)).float().to(DEVICE), torch.as_tensor(targets).float().to(DEVICE)))"
   ]
  },
  {
   "cell_type": "code",
   "execution_count": 320,
   "outputs": [],
   "source": [],
   "metadata": {
    "collapsed": false,
    "pycharm": {
     "name": "#%%\n"
    }
   }
  },
  {
   "cell_type": "code",
   "execution_count": 320,
   "outputs": [],
   "source": [],
   "metadata": {
    "collapsed": false,
    "pycharm": {
     "name": "#%%\n"
    }
   }
  },
  {
   "cell_type": "code",
   "execution_count": 321,
   "outputs": [
    {
     "data": {
      "text/plain": "14126"
     },
     "execution_count": 321,
     "metadata": {},
     "output_type": "execute_result"
    }
   ],
   "source": [
    "UID_target_dict = {}\n",
    "c1c7 = [f'C{i}' for i in range(1, 8)]\n",
    "\n",
    "for i in range(7):\n",
    "    for row in df_y.iterrows():\n",
    "        UID_target_dict[row[1][0]+'_'+c1c7[i]] = row[1][i+2]\n",
    "len(UID_target_dict)"
   ],
   "metadata": {
    "collapsed": false,
    "pycharm": {
     "name": "#%%\n"
    }
   }
  },
  {
   "cell_type": "code",
   "execution_count": 322,
   "outputs": [
    {
     "name": "stderr",
     "output_type": "stream",
     "text": [
      "  9%|▉         | 1340/14126 [00:40<06:50, 31.18it/s]W:\\Anaconda3\\envs\\rsna39\\lib\\site-packages\\numpy\\lib\\function_base.py:518: RuntimeWarning: Mean of empty slice.\n",
      "  avg = a.mean(axis, **keepdims_kw)\n",
      "W:\\Anaconda3\\envs\\rsna39\\lib\\site-packages\\numpy\\core\\_methods.py:182: RuntimeWarning: invalid value encountered in divide\n",
      "  ret = um.true_divide(\n",
      " 30%|██▉       | 4183/14126 [02:06<05:00, 33.04it/s]W:\\Anaconda3\\envs\\rsna39\\lib\\site-packages\\numpy\\lib\\function_base.py:518: RuntimeWarning: Mean of empty slice.\n",
      "  avg = a.mean(axis, **keepdims_kw)\n",
      "W:\\Anaconda3\\envs\\rsna39\\lib\\site-packages\\numpy\\core\\_methods.py:182: RuntimeWarning: invalid value encountered in divide\n",
      "  ret = um.true_divide(\n",
      " 35%|███▌      | 4955/14126 [02:29<04:52, 31.35it/s]W:\\Anaconda3\\envs\\rsna39\\lib\\site-packages\\numpy\\lib\\function_base.py:518: RuntimeWarning: Mean of empty slice.\n",
      "  avg = a.mean(axis, **keepdims_kw)\n",
      "W:\\Anaconda3\\envs\\rsna39\\lib\\site-packages\\numpy\\core\\_methods.py:182: RuntimeWarning: invalid value encountered in divide\n",
      "  ret = um.true_divide(\n",
      " 38%|███▊      | 5343/14126 [02:40<04:18, 33.97it/s]W:\\Anaconda3\\envs\\rsna39\\lib\\site-packages\\numpy\\lib\\function_base.py:518: RuntimeWarning: Mean of empty slice.\n",
      "  avg = a.mean(axis, **keepdims_kw)\n",
      "W:\\Anaconda3\\envs\\rsna39\\lib\\site-packages\\numpy\\core\\_methods.py:182: RuntimeWarning: invalid value encountered in divide\n",
      "  ret = um.true_divide(\n",
      " 52%|█████▏    | 7363/14126 [03:46<04:45, 23.65it/s]W:\\Anaconda3\\envs\\rsna39\\lib\\site-packages\\numpy\\lib\\function_base.py:518: RuntimeWarning: Mean of empty slice.\n",
      "  avg = a.mean(axis, **keepdims_kw)\n",
      "W:\\Anaconda3\\envs\\rsna39\\lib\\site-packages\\numpy\\core\\_methods.py:182: RuntimeWarning: invalid value encountered in divide\n",
      "  ret = um.true_divide(\n",
      " 52%|█████▏    | 7396/14126 [03:47<04:20, 25.79it/s]W:\\Anaconda3\\envs\\rsna39\\lib\\site-packages\\numpy\\lib\\function_base.py:518: RuntimeWarning: Mean of empty slice.\n",
      "  avg = a.mean(axis, **keepdims_kw)\n",
      "W:\\Anaconda3\\envs\\rsna39\\lib\\site-packages\\numpy\\core\\_methods.py:182: RuntimeWarning: invalid value encountered in divide\n",
      "  ret = um.true_divide(\n",
      " 54%|█████▍    | 7654/14126 [03:56<03:14, 33.19it/s]W:\\Anaconda3\\envs\\rsna39\\lib\\site-packages\\numpy\\lib\\function_base.py:518: RuntimeWarning: Mean of empty slice.\n",
      "  avg = a.mean(axis, **keepdims_kw)\n",
      "W:\\Anaconda3\\envs\\rsna39\\lib\\site-packages\\numpy\\core\\_methods.py:182: RuntimeWarning: invalid value encountered in divide\n",
      "  ret = um.true_divide(\n",
      " 68%|██████▊   | 9674/14126 [04:55<02:06, 35.22it/s]W:\\Anaconda3\\envs\\rsna39\\lib\\site-packages\\numpy\\lib\\function_base.py:518: RuntimeWarning: Mean of empty slice.\n",
      "  avg = a.mean(axis, **keepdims_kw)\n",
      "W:\\Anaconda3\\envs\\rsna39\\lib\\site-packages\\numpy\\core\\_methods.py:182: RuntimeWarning: invalid value encountered in divide\n",
      "  ret = um.true_divide(\n",
      " 70%|██████▉   | 9818/14126 [04:59<02:01, 35.59it/s]W:\\Anaconda3\\envs\\rsna39\\lib\\site-packages\\numpy\\lib\\function_base.py:518: RuntimeWarning: Mean of empty slice.\n",
      "  avg = a.mean(axis, **keepdims_kw)\n",
      "W:\\Anaconda3\\envs\\rsna39\\lib\\site-packages\\numpy\\core\\_methods.py:182: RuntimeWarning: invalid value encountered in divide\n",
      "  ret = um.true_divide(\n",
      " 83%|████████▎ | 11690/14126 [05:54<01:09, 34.81it/s]W:\\Anaconda3\\envs\\rsna39\\lib\\site-packages\\numpy\\lib\\function_base.py:518: RuntimeWarning: Mean of empty slice.\n",
      "  avg = a.mean(axis, **keepdims_kw)\n",
      "W:\\Anaconda3\\envs\\rsna39\\lib\\site-packages\\numpy\\core\\_methods.py:182: RuntimeWarning: invalid value encountered in divide\n",
      "  ret = um.true_divide(\n",
      " 88%|████████▊ | 12450/14126 [06:17<00:53, 31.14it/s]W:\\Anaconda3\\envs\\rsna39\\lib\\site-packages\\numpy\\lib\\function_base.py:518: RuntimeWarning: Mean of empty slice.\n",
      "  avg = a.mean(axis, **keepdims_kw)\n",
      "W:\\Anaconda3\\envs\\rsna39\\lib\\site-packages\\numpy\\core\\_methods.py:182: RuntimeWarning: invalid value encountered in divide\n",
      "  ret = um.true_divide(\n",
      "100%|██████████| 14126/14126 [07:09<00:00, 32.87it/s]\n"
     ]
    },
    {
     "data": {
      "text/plain": "14126"
     },
     "execution_count": 322,
     "metadata": {},
     "output_type": "execute_result"
    }
   ],
   "source": [
    "UID_x_dict = {}\n",
    "vert_c1c7 = [f'C{i}_effnet_vert' for i in range(1, 8)]\n",
    "frac_c1c7 = [f'C{i}_effnet_frac' for i in range(1, 8)]\n",
    "for UID_C in tqdm(UID_target_dict.keys()):\n",
    "    UID = UID_C.split('_C')[0]\n",
    "    cn = int(UID_C.split('_C')[1])\n",
    "    df1 = df_pred.loc[df_pred['StudyInstanceUID']==UID].copy()\n",
    "    df1[vert_c1c7] = (df1[vert_c1c7] > 0.5).astype(int)\n",
    "\n",
    "    x = np.average(df1.loc[df1[f'C{cn}_effnet_vert']>0.5][frac_c1c7].values,axis=0).tolist()\n",
    "    UID_x_dict[UID_C] =  x\n",
    "len(UID_x_dict)"
   ],
   "metadata": {
    "collapsed": false,
    "pycharm": {
     "name": "#%%\n"
    }
   }
  },
  {
   "cell_type": "code",
   "execution_count": 323,
   "outputs": [
    {
     "data": {
      "text/plain": "(14126, 7)"
     },
     "execution_count": 323,
     "metadata": {},
     "output_type": "execute_result"
    }
   ],
   "source": [
    "y = np.array([[]]).T\n",
    "x = np.array([[]]*7).T\n",
    "for UID in UID_target_dict.keys():\n",
    "    x = np.vstack((x,np.array(UID_x_dict[UID]).T))\n",
    "    y = np.vstack((y,np.array(UID_target_dict[UID]).T))\n",
    "y = y.ravel()\n",
    "x.shape"
   ],
   "metadata": {
    "collapsed": false,
    "pycharm": {
     "name": "#%%\n"
    }
   }
  },
  {
   "cell_type": "code",
   "execution_count": 324,
   "outputs": [],
   "source": [
    "x = np.nan_to_num(x)\n",
    "x = np.maximum(x, 0.000001)\n",
    "x = np.minimum(x,0.999999)"
   ],
   "metadata": {
    "collapsed": false,
    "pycharm": {
     "name": "#%%\n"
    }
   }
  },
  {
   "cell_type": "code",
   "execution_count": 325,
   "outputs": [],
   "source": [
    "import joblib\n",
    "from sklearn.ensemble import RandomForestClassifier\n",
    "clf =  joblib.load('gb.model')"
   ],
   "metadata": {
    "collapsed": false,
    "pycharm": {
     "name": "#%%\n"
    }
   }
  },
  {
   "cell_type": "code",
   "execution_count": 326,
   "outputs": [
    {
     "data": {
      "text/plain": "0.9118646467506725"
     },
     "execution_count": 326,
     "metadata": {},
     "output_type": "execute_result"
    }
   ],
   "source": [
    "score_c = clf.score(x, y)\n",
    "score_c"
   ],
   "metadata": {
    "collapsed": false,
    "pycharm": {
     "name": "#%%\n"
    }
   }
  },
  {
   "cell_type": "code",
   "execution_count": 327,
   "outputs": [
    {
     "data": {
      "text/plain": "0.8145755699962118"
     },
     "execution_count": 327,
     "metadata": {},
     "output_type": "execute_result"
    }
   ],
   "source": [
    "from sklearn.metrics import roc_curve, auc\n",
    "y_test_proba_rfc = clf.predict_proba(x)\n",
    "false_positive_rate_rfc, recall_rfc, thresholds_rfc = roc_curve(y, y_test_proba_rfc[:, 1])\n",
    "auc(false_positive_rate_rfc, recall_rfc)"
   ],
   "metadata": {
    "collapsed": false,
    "pycharm": {
     "name": "#%%\n"
    }
   }
  },
  {
   "cell_type": "code",
   "execution_count": 328,
   "outputs": [
    {
     "data": {
      "text/plain": "array([0.9301187 , 0.03681638, 0.03056765, ..., 0.2573939 , 0.2940773 ,\n       0.15282642])"
     },
     "execution_count": 328,
     "metadata": {},
     "output_type": "execute_result"
    }
   ],
   "source": [
    "rf_pred = clf.predict_proba(x)\n",
    "rf_pred[:,1]"
   ],
   "metadata": {
    "collapsed": false,
    "pycharm": {
     "name": "#%%\n"
    }
   }
  },
  {
   "cell_type": "code",
   "execution_count": 329,
   "outputs": [
    {
     "name": "stderr",
     "output_type": "stream",
     "text": [
      "100%|██████████| 14126/14126 [00:00<00:00, 806884.72it/s]\n"
     ]
    },
    {
     "data": {
      "text/plain": "2018"
     },
     "execution_count": 329,
     "metadata": {},
     "output_type": "execute_result"
    }
   ],
   "source": [
    "UID_ypred_dict = {}\n",
    "i=0\n",
    "for UID_C in tqdm(UID_target_dict.keys()):\n",
    "    UID = UID_C.split('_C')[0]\n",
    "    cn = int(UID_C.split('_C')[1])\n",
    "    if UID in UID_ypred_dict.keys():\n",
    "        UID_ypred_dict[UID][cn-1] = rf_pred[i,1]\n",
    "    else:\n",
    "        UID_ypred_dict[UID] = [0.,0.,0.,0.,0.,0.,0.]\n",
    "        UID_ypred_dict[UID][cn-1] = rf_pred[i,1]\n",
    "    i+=1\n",
    "UID_ypred_dict.__len__()"
   ],
   "metadata": {
    "collapsed": false,
    "pycharm": {
     "name": "#%%\n"
    }
   }
  },
  {
   "cell_type": "code",
   "execution_count": 330,
   "outputs": [],
   "source": [
    "clf2 =  joblib.load('rf2.model')\n"
   ],
   "metadata": {
    "collapsed": false,
    "pycharm": {
     "name": "#%%\n"
    }
   }
  },
  {
   "cell_type": "code",
   "execution_count": 331,
   "outputs": [
    {
     "name": "stderr",
     "output_type": "stream",
     "text": [
      "100%|██████████| 2018/2018 [00:00<00:00, 174885.44it/s]\n"
     ]
    },
    {
     "data": {
      "text/plain": "[0.853706170619242,\n 0.35611460388580946,\n 0.49579854824266384,\n 0.12523814264839148,\n 0.1349580285560267,\n 0.14387180936973745,\n 0.15496645006614462,\n 0.1768602513059201]"
     },
     "execution_count": 331,
     "metadata": {},
     "output_type": "execute_result"
    }
   ],
   "source": [
    "for i in tqdm(UID_ypred_dict.items()):\n",
    "    c1c7 = (np.array(i[1]))\n",
    "\n",
    "    pred_patient_overall1 = 1 - np.prod(1 - c1c7)\n",
    "    # pred_patient_overall2 = clf2.predict_proba(np.array(i[1]).reshape(1, -1))[0][1]\n",
    "\n",
    "    # pred_patient_overall = (pred_patient_overall1 + pred_patient_overall2)/2\n",
    "    UID_ypred_dict[i[0]].insert(0,pred_patient_overall1)\n",
    "UID_ypred_dict['1.2.826.0.1.3680043.2813']"
   ],
   "metadata": {
    "collapsed": false,
    "pycharm": {
     "name": "#%%\n"
    }
   }
  },
  {
   "cell_type": "code",
   "execution_count": 332,
   "outputs": [],
   "source": [
    "from sklearn.metrics import precision_score,accuracy_score\n"
   ],
   "metadata": {
    "collapsed": false,
    "pycharm": {
     "name": "#%%\n"
    }
   }
  },
  {
   "cell_type": "code",
   "execution_count": 334,
   "outputs": [
    {
     "data": {
      "text/plain": "(2018, 8)"
     },
     "execution_count": 334,
     "metadata": {},
     "output_type": "execute_result"
    }
   ],
   "source": [
    "pred = np.array([[]]*8).T\n",
    "target = np.array([[]]*8).T\n",
    "ori_overall = np.array([[]]).T\n",
    "\n",
    "for row in df_y.iterrows():\n",
    "    ori_overall = np.vstack((ori_overall,np.array(1 if UID_ypred_dict[row[1][0]][0]>0.5 else 0)))\n",
    "\n",
    "    pred = np.vstack((pred,UID_ypred_dict[row[1][0]]))\n",
    "    target = np.vstack((target,[row[1][i] for i in range(1,9)]))\n",
    "pred.shape"
   ],
   "metadata": {
    "collapsed": false,
    "pycharm": {
     "name": "#%%\n"
    }
   }
  },
  {
   "cell_type": "code",
   "execution_count": 335,
   "outputs": [
    {
     "data": {
      "text/plain": "2018"
     },
     "execution_count": 335,
     "metadata": {},
     "output_type": "execute_result"
    }
   ],
   "source": [
    "pred.astype(dtype=float)\n",
    "pred = np.maximum(pred, 0.000001)\n",
    "pred = np.minimum(pred,0.999999)\n",
    "len(pred)"
   ],
   "metadata": {
    "collapsed": false,
    "pycharm": {
     "name": "#%%\n"
    }
   }
  },
  {
   "cell_type": "code",
   "execution_count": 336,
   "outputs": [
    {
     "data": {
      "text/plain": "0.6015857284440039"
     },
     "execution_count": 336,
     "metadata": {},
     "output_type": "execute_result"
    }
   ],
   "source": [
    "target_overall = target[:,1]\n",
    "ori_overall = ori_overall.ravel()\n",
    "accuracy_score(ori_overall, target_overall) # overall的准确率"
   ],
   "metadata": {
    "collapsed": false,
    "pycharm": {
     "name": "#%%\n"
    }
   }
  },
  {
   "cell_type": "code",
   "execution_count": 337,
   "outputs": [
    {
     "name": "stdout",
     "output_type": "stream",
     "text": [
      "过rf之后CV score: tensor(0.4488)\n"
     ]
    }
   ],
   "source": [
    "DEVICE = 'cpu'\n",
    "print('过rf之后CV score:', weighted_loss(torch.logit(torch.as_tensor(pred)).float().to(DEVICE), torch.as_tensor(target).float().to(DEVICE)))"
   ],
   "metadata": {
    "collapsed": false,
    "pycharm": {
     "name": "#%%\n"
    }
   }
  }
 ],
 "metadata": {
  "kernelspec": {
   "display_name": "Python 3.7.0 ('py37')",
   "language": "python",
   "name": "python3"
  },
  "language_info": {
   "codemirror_mode": {
    "name": "ipython",
    "version": 3
   },
   "file_extension": ".py",
   "mimetype": "text/x-python",
   "name": "python",
   "nbconvert_exporter": "python",
   "pygments_lexer": "ipython3",
   "version": "3.7.0"
  },
  "orig_nbformat": 4,
  "vscode": {
   "interpreter": {
    "hash": "7e7a7d138e1807293d1e3f8013295cd32ce1ecfefa78d2e112676f884ff9955c"
   }
  }
 },
 "nbformat": 4,
 "nbformat_minor": 2
}